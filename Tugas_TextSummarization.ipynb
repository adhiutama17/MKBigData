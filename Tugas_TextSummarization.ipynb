{
  "nbformat": 4,
  "nbformat_minor": 0,
  "metadata": {
    "colab": {
      "name": "Tugas-TextSummarization.ipynb",
      "provenance": [],
      "authorship_tag": "ABX9TyPCTpqL67RO3PaoD1pfy6Wz",
      "include_colab_link": true
    },
    "kernelspec": {
      "name": "python3",
      "display_name": "Python 3"
    },
    "language_info": {
      "name": "python"
    }
  },
  "cells": [
    {
      "cell_type": "markdown",
      "metadata": {
        "id": "view-in-github",
        "colab_type": "text"
      },
      "source": [
        "<a href=\"https://colab.research.google.com/github/adhiutama17/MKBigData/blob/main/Tugas_TextSummarization.ipynb\" target=\"_parent\"><img src=\"https://colab.research.google.com/assets/colab-badge.svg\" alt=\"Open In Colab\"/></a>"
      ]
    },
    {
      "cell_type": "markdown",
      "metadata": {
        "id": "imCdmYCt4FgJ"
      },
      "source": [
        "# TUGAS Big Data\n",
        "Text Summarization untuk artikel Ilmiah"
      ]
    },
    {
      "cell_type": "markdown",
      "metadata": {
        "id": "5o1En3LFLf8-"
      },
      "source": [
        "## Pre-Process\n",
        "Pre-Process yang dilakukan:\n",
        "* lowercase\n",
        "* punctuation removal\n",
        "* stop-word removal\n",
        "* term-frequency \n",
        "\n"
      ]
    },
    {
      "cell_type": "markdown",
      "metadata": {
        "id": "yeMXtF4nL9_4"
      },
      "source": [
        "### Integrasi Google Colab dengan Github\n",
        "Github merupakan repository online untuk bisa menyimpan dan mengolah keperluan programmer. Github atas nama 'adhiutama17' dengan repository 'MKBigData'. File artikel ilmiah akan diberikan pada repository github tersebut"
      ]
    },
    {
      "cell_type": "code",
      "metadata": {
        "colab": {
          "base_uri": "https://localhost:8080/"
        },
        "id": "qd9Gvjgp47a2",
        "outputId": "1881733f-b1ac-4129-d7cc-3c2bd43cb5d9"
      },
      "source": [
        "!git clone https://github.com/adhiutama17/MKBigData"
      ],
      "execution_count": 2,
      "outputs": [
        {
          "output_type": "stream",
          "name": "stdout",
          "text": [
            "Cloning into 'MKBigData'...\n",
            "remote: Enumerating objects: 50, done.\u001b[K\n",
            "remote: Counting objects: 100% (50/50), done.\u001b[K\n",
            "remote: Compressing objects: 100% (42/42), done.\u001b[K\n",
            "remote: Total 50 (delta 20), reused 29 (delta 6), pack-reused 0\u001b[K\n",
            "Unpacking objects: 100% (50/50), done.\n"
          ]
        }
      ]
    },
    {
      "cell_type": "code",
      "metadata": {
        "id": "E1HPbEth7myM",
        "colab": {
          "base_uri": "https://localhost:8080/"
        },
        "outputId": "731b277d-7c33-4c6a-aa7e-017a36f5223d"
      },
      "source": [
        "# Melihat isi file pada repository /MKBigData\n",
        "!ls MKBigData/Teks"
      ],
      "execution_count": null,
      "outputs": [
        {
          "output_type": "stream",
          "name": "stdout",
          "text": [
            "'Abdul Rohman_Universitas Airlangga_Provider R_D.pdf'   Provider-RnD.txt\n",
            " artikel_berita1.txt\n"
          ]
        }
      ]
    },
    {
      "cell_type": "markdown",
      "metadata": {
        "id": "nlmtb5I1Misc"
      },
      "source": [
        "### Membuka file, lowercase, dan split per kalimat\n",
        "split kalimat menggunakan tanda baca \".\""
      ]
    },
    {
      "cell_type": "code",
      "metadata": {
        "id": "JgeERSs8MbGZ"
      },
      "source": [
        "#membuka file artikel\n",
        "artikel_path = 'MKBigData/Teks/Provider-RnD.txt'\n",
        "artikel_file = (open(artikel_path,\"r\").read()).replace(\"\\n\",\"\").lower() #lowercase dan \n",
        "split_sentence = (artikel_file.split(\". \"))"
      ],
      "execution_count": 18,
      "outputs": []
    },
    {
      "cell_type": "code",
      "metadata": {
        "colab": {
          "base_uri": "https://localhost:8080/"
        },
        "id": "hrz-tG2EVqPt",
        "outputId": "68f9bafc-ee14-4966-e195-f4e9a3e07666"
      },
      "source": [
        "split_sentence"
      ],
      "execution_count": 20,
      "outputs": [
        {
          "output_type": "execute_result",
          "data": {
            "text/plain": [
              "['pandemi coronavirus disease (covid-19) menyerang seluruh penjuru dunia termasuk indonesia',\n",
              " 'menurut data yang dirilis worldometers.info pada tanggal 16 juli 2021, indonesia menempati urutan ke-14 dalam daftar negara dengan jumlah kasus positif covid-19 terbanyak',\n",
              " 'pada bulan juni sampai juli, kasus perharinya naik mencapai 10.000 lebih hingga 56.000 kasus covid-19 hal ini mengindikasikan bahwa penularan covid-19 di indonesia semakin masif',\n",
              " 'padahal dampak yang ditimbulkan dari pandemi ini sangat besar dan mempengaruhi berbagai aspek kehidupan, salah satunya adalah aspek ekonomi',\n",
              " 'aspek ekonomi yang terdampak paling signifikan adalah di sektor industri dengan penyumbang angka pengangguran tertinggi.indonesia mengalami kontraksi pertumbuhan ekonomi pada kuartal i tahun 2021',\n",
              " 'menurut data badan pusat statistika (bps) yang dilansir oleh bps.go.id, pertumbuhan ekonomi indonesia pada triwulan i-2021 terhadap triwulan i-2020 minus 0,74 persen (y-on-y)',\n",
              " 'pada triwulan sebelumnya mengalami kontraksi sebesar minus 0,96 persen (y-on-y)',\n",
              " 'rendahnya pertumbuhan ekonomi ini disebabkan oleh pandemi covid-19 yang tidak terkendali',\n",
              " 'hal ini berdampak pada sektor industri pada sisi eksternal.permasalahan industri mulai tidak terkendali yang diakibatkan oleh efek eksternal seperti kebijakan yang diambil selama masa pandemi covid-19',\n",
              " 'menurut siregar (2020) industri dalam negeri mengalami tujuh permasalahan yang lumayan berat',\n",
              " 'tujuh permasalahan tersebut antara lain, kurangnya raw material yang didapat oleh industri, seperti gas, kondensat, biji besi, dan naphta',\n",
              " 'hal ini sangat mempengaruhi produksi yang ada di dalam negeri, yaitu memaksa mereka mengimpor raw material dengan harga yang seharusnya murah kalau didapat di dalam negeri menjadi lebih mahal',\n",
              " 'semakin mahal raw material semakin mahal pula produk yang dihasilkan yang membuat peluang tersendiri dari produk impor',\n",
              " 'produk impor dengan bahan baku murah menjualnya dengan harga yang jauh lebih murah daripada produk dalam negeri, sehingga membuat konsumen lebih banyak memilih produk luar negeri',\n",
              " 'maka dari itu permasalahan yang kedua adalah banyaknya produk impor yang ada di indonesia menjadi tekanan tersendiri oleh industri yang ada di dalam negeri.ketiga, infrastruktur yang kurang memadai oleh negara (seperti halnya jalan, pelabuhan, dan kawasan industri) untuk melakukan pendistribusian produk dari industri tersebut',\n",
              " 'pendistribusian produk yang tidak lancar yang dialami industri membawa dampak bagi negara yaitu terjadi inflasi',\n",
              " 'menurut badan pusat statistika (bps) dalam ekonomi.bisnis.com bahwa selama pandemi covid-19 mengalami penurunan daya beli barang oleh masyarakat di daerah tertentu',\n",
              " 'pada bulan april 2020 bps mencatat inflasi yang terjadi sebesar 0,08 persen (mtm) yang dipengaruhi oleh penurunan daya beli masyarakat',\n",
              " 'setelah itu, setiap tahun ke tahun, bps mencatat inflasi sebesar 2,76 persen (y-o-y)',\n",
              " 'rendahnya daya beli masyarakat dapat menjadi tekanan tersendiri untuk industri dalam mempertahankan usahanya keempat, kekurangan utility (listrik, gas, air dan pengelolaan limbah industri)',\n",
              " 'kelima, pengelolaan limbah industri yang terlalu ketat dan terlalu spesifik menyulitkan industri',\n",
              " 'keenam, industri kecil menengah (ikm) mengalami kesulitan dalam akses pembiayaan, ketersediaan bahan baku atau bahan pengganti, maupun dalam hal pemasaran',\n",
              " 'permasalahan terakhir yaitu tenaga kerja yang kurang terampil sangat berpengaruh akan kemajuan dari industri dalam menghadapi permasalahan dari eksternal.menurut rochanah (2020) mahasiswa merupakan suatu individu yang memiliki tingkatan tertinggi dalam dunia pendidikan',\n",
              " 'peran di dalam meningkatkan atau memajukan tatanan masyarakat adalah hal teristimewa bagi setiap individu mahasiswa',\n",
              " 'dalam kehidupan mahasiswa harus memegang tiga peranannya dalam masyarakat, yaitu agent of change, social control, dan iron stock.',\n",
              " 'peran mahasiswa sebagai agent of change memiliki arti dimana mahasiswa harus action dan bukan hanya berpangku tangan manakala melihat keadaan yang meresahkan dalam suatu masyarakat',\n",
              " 'selain itu, mahasiswa juga berperan sebagai social control dan iron stock yang artinya, pengontrol aturan dan kebijakan yang dikeluarkan pemerintah, serta mahasiswa diharapkan menjadi generasi penerus bangsa yang tangguh dan memiliki moral yang baik',\n",
              " 'sikap tangguh yang dimiliki mahasiswa harus ditunjukkan dalam setiap keadaan, memiliki semangat juang yang tinggi dan pantang menyerah.mahasiswa dituntut untuk berpikir ke depan untuk masa depan negara yang lebih baik',\n",
              " 'tuntutan tersebut juga terlampir dalam visi misi maupun pilar dalampembangunan indonesia tahun 2045',\n",
              " 'disebutkan bahwa peningkatan sumbangan ilmu pengetahuan dan teknologi dalam pembangunan sebagian besar diperuntukkan oleh mahasiswa (bappenas',\n",
              " '2020)',\n",
              " 'peningkatan tersebut dibenarkan dalam pernyataan pilar pembangunan yang menyebutkan adanya peningkatan dan pengembangan (r&d) untuk tahun 2045 sebesar 1,5 - 2% dari kolaborasi triple helix',\n",
              " 'kolaborasi triple helix merupakan bentuk kerjasama yang melibatkan tiga bagian yaitu perguruan tinggi, swasta, dan pemerintah, dimana kolaborasi ini ditujukan untuk proses hilirisasi dan komersialisasi pada setiap penelitian yang akan diangkat serta dijalankan mahasiswa',\n",
              " 'hal ini membuat mahasiswa berlomba - lomba untuk membuat atau menggagas ide - ide maupun penemuan - penemuan baru dalam menyelesaikan masalah yang ada di masyarakat khususnya dalam membantu pembangunan indonesia yang lebih baik',\n",
              " 'meskipun demikian, segala ide maupun gagasan yang dibuat oleh mahasiswa hanya menjadi suatu tumpukan ide',\n",
              " 'banyak sekali ide yang disajikan oleh mahasiswa tetapi semua hanya sebatas ide',\n",
              " 'jarang sekali ide yang diajukan terealisasi dalam bentuk yang seharusnya diberikan dalam ide tersebut',\n",
              " 'selain itu, ide yang diajukan banyak yang berpacu pada kebijakan pemerintah dan untuk ide terkait pemecahan masalah dalam industri tertentu masih jarang ditemui atau hampir tidak ada',\n",
              " 'pada kenyataannya saat ini industri dalam keadaan yang membutuhkan ide dari mahasiswa untuk menyelesaikan permasalahan',\n",
              " 'sedikit mahasiswa berpikir bahwa industri merupakan komponen penting dalam suatu negara',\n",
              " 'negara yang tidak memiliki suatu industri atau usaha untuk mengelola sumber dayanya, maka dalam memenuhi kebutuhan negara atau melakukan pertumbuhan ekonomi dirasa tidak mungkin bisa dilakukan.pada tahun 2020 sampai dengan tahun 2035 indonesia diprediksi akan mengalami bonus demografi secara signifikan',\n",
              " 'menurut bkkbn (2020) bonus demografi ini bisa menjadi keuntungan dan bencana bagi bangsa indonesia',\n",
              " 'generasi milenial adalah aset bangsa yang mampu membawa bangsa indonesia ke arah pertumbuhan yang lebih baik',\n",
              " 'generasi milenial akan menjadi penduduk dominan dalam era bonus demografi, dimana cara pandang dan cara mendidik generasinya yang terbilang maju, unggul, serta berkualitas',\n",
              " 'generasi inilah yang akan menentukan arah dan roda pembangunan indonesia',\n",
              " 'fenomena ini dapatmenjadi peluang bagi indonesia untuk meningkatkan kualitas dan produktivitas sumber daya manusia di usia produktif yang berlimpah dalam menghadapi pasar bebas tenaga kerja',\n",
              " 'jika pemenuhan kualitas dan produktivitas dari generasi ini bisa dicapai, maka indonesia akan siap untuk menghadapi adanya era bonus demografi ini.mahasiswa sebagai generasi milenial sekaligus penyumbang ide terbesar dalam ilmu pengetahuan dan teknologi, seharusnya tidak terpaku pada kebijakan pemerintah',\n",
              " 'padahal di kenyataan banyak permasalahan yang timbul di masyarakat dan harus diselesaikan oleh mahasiswa',\n",
              " 'selain itu, tridharma perguruan tinggi (yang terdiri dari pendidikan dan pengajaran, penelitian dan pengembangan, serta pengabdian di masyarakat) mengharuskan mahasiswa maupun instansi berpikir kritis untuk menyelesaikan atau menghasilkan penemuan maupun ide di dalam masyarakat khususnya di bidang industri yang sangat berpengaruh dalam pertumbuhan ekonomi saat ini',\n",
              " 'disini peneliti memberikan solusi agar mahasiswa dan instansi berperan aktif dalam semua hal yang telah disebutkan diatas, sehingga dapat merealisasikan idenya di keadaan yang sesuai dalam provider r&d',\n",
              " 'provider r&d merupakan sebuah platform yang akan menjembatani si penerima masalah (industri) dan si pemberi solusi (mahasiswa dan instansi) untuk mewujudkan indonesia yang lebih baik',\n",
              " 'provider r&d memberikan seseorang lebih produktif dan berkualitas dalam sebuah penelitian dan pengembangan ide',\n",
              " 'selain itu, platform ini membuat indonesia lebih siap untuk menghadapi era demografi dengan menambah kualitas dan produktivitas generasi milenial untuk menyelesaikan permasalahan dan merealisasikannya tanpa terbuang sia-sia.']"
            ]
          },
          "metadata": {},
          "execution_count": 20
        }
      ]
    },
    {
      "cell_type": "markdown",
      "metadata": {
        "id": "ft4wk715Wwd9"
      },
      "source": [
        "### Menghapus punctuation\n",
        "punctuation setiap kalimat dihapus"
      ]
    },
    {
      "cell_type": "code",
      "metadata": {
        "id": "zLObyvjPVtIz"
      },
      "source": [
        "punc = '''!()-[]{};:'\"\\,<>./?@#$%^&*_~''' #tanda baca yang dihilangkan\n",
        "for i in range(len(split_sentence)):\n",
        "  word = \"\"\n",
        "  for char in split_sentence[i]:\n",
        "    if char not in punc:\n",
        "      word += char\n",
        "  split_sentence[i] = word"
      ],
      "execution_count": 28,
      "outputs": []
    },
    {
      "cell_type": "code",
      "metadata": {
        "colab": {
          "base_uri": "https://localhost:8080/"
        },
        "id": "npGaKxzeXOum",
        "outputId": "3bf76a65-25ed-464e-9c27-d0c22954628f"
      },
      "source": [
        "split_sentence"
      ],
      "execution_count": 29,
      "outputs": [
        {
          "output_type": "execute_result",
          "data": {
            "text/plain": [
              "['pandemi coronavirus disease covid19 menyerang seluruh penjuru dunia termasuk indonesia',\n",
              " 'menurut data yang dirilis worldometersinfo pada tanggal 16 juli 2021 indonesia menempati urutan ke14 dalam daftar negara dengan jumlah kasus positif covid19 terbanyak',\n",
              " 'pada bulan juni sampai juli kasus perharinya naik mencapai 10000 lebih hingga 56000 kasus covid19 hal ini mengindikasikan bahwa penularan covid19 di indonesia semakin masif',\n",
              " 'padahal dampak yang ditimbulkan dari pandemi ini sangat besar dan mempengaruhi berbagai aspek kehidupan salah satunya adalah aspek ekonomi',\n",
              " 'aspek ekonomi yang terdampak paling signifikan adalah di sektor industri dengan penyumbang angka pengangguran tertinggiindonesia mengalami kontraksi pertumbuhan ekonomi pada kuartal i tahun 2021',\n",
              " 'menurut data badan pusat statistika bps yang dilansir oleh bpsgoid pertumbuhan ekonomi indonesia pada triwulan i2021 terhadap triwulan i2020 minus 074 persen yony',\n",
              " 'pada triwulan sebelumnya mengalami kontraksi sebesar minus 096 persen yony',\n",
              " 'rendahnya pertumbuhan ekonomi ini disebabkan oleh pandemi covid19 yang tidak terkendali',\n",
              " 'hal ini berdampak pada sektor industri pada sisi eksternalpermasalahan industri mulai tidak terkendali yang diakibatkan oleh efek eksternal seperti kebijakan yang diambil selama masa pandemi covid19',\n",
              " 'menurut siregar 2020 industri dalam negeri mengalami tujuh permasalahan yang lumayan berat',\n",
              " 'tujuh permasalahan tersebut antara lain kurangnya raw material yang didapat oleh industri seperti gas kondensat biji besi dan naphta',\n",
              " 'hal ini sangat mempengaruhi produksi yang ada di dalam negeri yaitu memaksa mereka mengimpor raw material dengan harga yang seharusnya murah kalau didapat di dalam negeri menjadi lebih mahal',\n",
              " 'semakin mahal raw material semakin mahal pula produk yang dihasilkan yang membuat peluang tersendiri dari produk impor',\n",
              " 'produk impor dengan bahan baku murah menjualnya dengan harga yang jauh lebih murah daripada produk dalam negeri sehingga membuat konsumen lebih banyak memilih produk luar negeri',\n",
              " 'maka dari itu permasalahan yang kedua adalah banyaknya produk impor yang ada di indonesia menjadi tekanan tersendiri oleh industri yang ada di dalam negeriketiga infrastruktur yang kurang memadai oleh negara seperti halnya jalan pelabuhan dan kawasan industri untuk melakukan pendistribusian produk dari industri tersebut',\n",
              " 'pendistribusian produk yang tidak lancar yang dialami industri membawa dampak bagi negara yaitu terjadi inflasi',\n",
              " 'menurut badan pusat statistika bps dalam ekonomibisniscom bahwa selama pandemi covid19 mengalami penurunan daya beli barang oleh masyarakat di daerah tertentu',\n",
              " 'pada bulan april 2020 bps mencatat inflasi yang terjadi sebesar 008 persen mtm yang dipengaruhi oleh penurunan daya beli masyarakat',\n",
              " 'setelah itu setiap tahun ke tahun bps mencatat inflasi sebesar 276 persen yoy',\n",
              " 'rendahnya daya beli masyarakat dapat menjadi tekanan tersendiri untuk industri dalam mempertahankan usahanya keempat kekurangan utility listrik gas air dan pengelolaan limbah industri',\n",
              " 'kelima pengelolaan limbah industri yang terlalu ketat dan terlalu spesifik menyulitkan industri',\n",
              " 'keenam industri kecil menengah ikm mengalami kesulitan dalam akses pembiayaan ketersediaan bahan baku atau bahan pengganti maupun dalam hal pemasaran',\n",
              " 'permasalahan terakhir yaitu tenaga kerja yang kurang terampil sangat berpengaruh akan kemajuan dari industri dalam menghadapi permasalahan dari eksternalmenurut rochanah 2020 mahasiswa merupakan suatu individu yang memiliki tingkatan tertinggi dalam dunia pendidikan',\n",
              " 'peran di dalam meningkatkan atau memajukan tatanan masyarakat adalah hal teristimewa bagi setiap individu mahasiswa',\n",
              " 'dalam kehidupan mahasiswa harus memegang tiga peranannya dalam masyarakat yaitu agent of change social control dan iron stock',\n",
              " 'peran mahasiswa sebagai agent of change memiliki arti dimana mahasiswa harus action dan bukan hanya berpangku tangan manakala melihat keadaan yang meresahkan dalam suatu masyarakat',\n",
              " 'selain itu mahasiswa juga berperan sebagai social control dan iron stock yang artinya pengontrol aturan dan kebijakan yang dikeluarkan pemerintah serta mahasiswa diharapkan menjadi generasi penerus bangsa yang tangguh dan memiliki moral yang baik',\n",
              " 'sikap tangguh yang dimiliki mahasiswa harus ditunjukkan dalam setiap keadaan memiliki semangat juang yang tinggi dan pantang menyerahmahasiswa dituntut untuk berpikir ke depan untuk masa depan negara yang lebih baik',\n",
              " 'tuntutan tersebut juga terlampir dalam visi misi maupun pilar dalampembangunan indonesia tahun 2045',\n",
              " 'disebutkan bahwa peningkatan sumbangan ilmu pengetahuan dan teknologi dalam pembangunan sebagian besar diperuntukkan oleh mahasiswa bappenas',\n",
              " '2020',\n",
              " 'peningkatan tersebut dibenarkan dalam pernyataan pilar pembangunan yang menyebutkan adanya peningkatan dan pengembangan rd untuk tahun 2045 sebesar 15  2 dari kolaborasi triple helix',\n",
              " 'kolaborasi triple helix merupakan bentuk kerjasama yang melibatkan tiga bagian yaitu perguruan tinggi swasta dan pemerintah dimana kolaborasi ini ditujukan untuk proses hilirisasi dan komersialisasi pada setiap penelitian yang akan diangkat serta dijalankan mahasiswa',\n",
              " 'hal ini membuat mahasiswa berlomba  lomba untuk membuat atau menggagas ide  ide maupun penemuan  penemuan baru dalam menyelesaikan masalah yang ada di masyarakat khususnya dalam membantu pembangunan indonesia yang lebih baik',\n",
              " 'meskipun demikian segala ide maupun gagasan yang dibuat oleh mahasiswa hanya menjadi suatu tumpukan ide',\n",
              " 'banyak sekali ide yang disajikan oleh mahasiswa tetapi semua hanya sebatas ide',\n",
              " 'jarang sekali ide yang diajukan terealisasi dalam bentuk yang seharusnya diberikan dalam ide tersebut',\n",
              " 'selain itu ide yang diajukan banyak yang berpacu pada kebijakan pemerintah dan untuk ide terkait pemecahan masalah dalam industri tertentu masih jarang ditemui atau hampir tidak ada',\n",
              " 'pada kenyataannya saat ini industri dalam keadaan yang membutuhkan ide dari mahasiswa untuk menyelesaikan permasalahan',\n",
              " 'sedikit mahasiswa berpikir bahwa industri merupakan komponen penting dalam suatu negara',\n",
              " 'negara yang tidak memiliki suatu industri atau usaha untuk mengelola sumber dayanya maka dalam memenuhi kebutuhan negara atau melakukan pertumbuhan ekonomi dirasa tidak mungkin bisa dilakukanpada tahun 2020 sampai dengan tahun 2035 indonesia diprediksi akan mengalami bonus demografi secara signifikan',\n",
              " 'menurut bkkbn 2020 bonus demografi ini bisa menjadi keuntungan dan bencana bagi bangsa indonesia',\n",
              " 'generasi milenial adalah aset bangsa yang mampu membawa bangsa indonesia ke arah pertumbuhan yang lebih baik',\n",
              " 'generasi milenial akan menjadi penduduk dominan dalam era bonus demografi dimana cara pandang dan cara mendidik generasinya yang terbilang maju unggul serta berkualitas',\n",
              " 'generasi inilah yang akan menentukan arah dan roda pembangunan indonesia',\n",
              " 'fenomena ini dapatmenjadi peluang bagi indonesia untuk meningkatkan kualitas dan produktivitas sumber daya manusia di usia produktif yang berlimpah dalam menghadapi pasar bebas tenaga kerja',\n",
              " 'jika pemenuhan kualitas dan produktivitas dari generasi ini bisa dicapai maka indonesia akan siap untuk menghadapi adanya era bonus demografi inimahasiswa sebagai generasi milenial sekaligus penyumbang ide terbesar dalam ilmu pengetahuan dan teknologi seharusnya tidak terpaku pada kebijakan pemerintah',\n",
              " 'padahal di kenyataan banyak permasalahan yang timbul di masyarakat dan harus diselesaikan oleh mahasiswa',\n",
              " 'selain itu tridharma perguruan tinggi yang terdiri dari pendidikan dan pengajaran penelitian dan pengembangan serta pengabdian di masyarakat mengharuskan mahasiswa maupun instansi berpikir kritis untuk menyelesaikan atau menghasilkan penemuan maupun ide di dalam masyarakat khususnya di bidang industri yang sangat berpengaruh dalam pertumbuhan ekonomi saat ini',\n",
              " 'disini peneliti memberikan solusi agar mahasiswa dan instansi berperan aktif dalam semua hal yang telah disebutkan diatas sehingga dapat merealisasikan idenya di keadaan yang sesuai dalam provider rd',\n",
              " 'provider rd merupakan sebuah platform yang akan menjembatani si penerima masalah industri dan si pemberi solusi mahasiswa dan instansi untuk mewujudkan indonesia yang lebih baik',\n",
              " 'provider rd memberikan seseorang lebih produktif dan berkualitas dalam sebuah penelitian dan pengembangan ide',\n",
              " 'selain itu platform ini membuat indonesia lebih siap untuk menghadapi era demografi dengan menambah kualitas dan produktivitas generasi milenial untuk menyelesaikan permasalahan dan merealisasikannya tanpa terbuang siasia']"
            ]
          },
          "metadata": {},
          "execution_count": 29
        }
      ]
    },
    {
      "cell_type": "markdown",
      "metadata": {
        "id": "ckgeofxBYWyZ"
      },
      "source": [
        "### Menghapus stopword\n",
        "kamus stopword yang digunakan bersumber dari Sastrawi"
      ]
    },
    {
      "cell_type": "code",
      "metadata": {
        "colab": {
          "base_uri": "https://localhost:8080/"
        },
        "id": "snshokHMXPm-",
        "outputId": "08251be2-fff5-4967-8604-1d40aaf3a345"
      },
      "source": [
        "pip install Sastrawi #instalasi library sastrawi"
      ],
      "execution_count": 30,
      "outputs": [
        {
          "output_type": "stream",
          "name": "stdout",
          "text": [
            "Collecting Sastrawi\n",
            "  Downloading Sastrawi-1.0.1-py2.py3-none-any.whl (209 kB)\n",
            "\u001b[?25l\r\u001b[K     |█▋                              | 10 kB 19.9 MB/s eta 0:00:01\r\u001b[K     |███▏                            | 20 kB 24.0 MB/s eta 0:00:01\r\u001b[K     |████▊                           | 30 kB 13.2 MB/s eta 0:00:01\r\u001b[K     |██████▎                         | 40 kB 9.6 MB/s eta 0:00:01\r\u001b[K     |███████▉                        | 51 kB 5.4 MB/s eta 0:00:01\r\u001b[K     |█████████▍                      | 61 kB 5.9 MB/s eta 0:00:01\r\u001b[K     |███████████                     | 71 kB 5.6 MB/s eta 0:00:01\r\u001b[K     |████████████▌                   | 81 kB 6.3 MB/s eta 0:00:01\r\u001b[K     |██████████████                  | 92 kB 4.8 MB/s eta 0:00:01\r\u001b[K     |███████████████▋                | 102 kB 5.2 MB/s eta 0:00:01\r\u001b[K     |█████████████████▏              | 112 kB 5.2 MB/s eta 0:00:01\r\u001b[K     |██████████████████▊             | 122 kB 5.2 MB/s eta 0:00:01\r\u001b[K     |████████████████████▎           | 133 kB 5.2 MB/s eta 0:00:01\r\u001b[K     |█████████████████████▉          | 143 kB 5.2 MB/s eta 0:00:01\r\u001b[K     |███████████████████████▍        | 153 kB 5.2 MB/s eta 0:00:01\r\u001b[K     |█████████████████████████       | 163 kB 5.2 MB/s eta 0:00:01\r\u001b[K     |██████████████████████████▋     | 174 kB 5.2 MB/s eta 0:00:01\r\u001b[K     |████████████████████████████▏   | 184 kB 5.2 MB/s eta 0:00:01\r\u001b[K     |█████████████████████████████▊  | 194 kB 5.2 MB/s eta 0:00:01\r\u001b[K     |███████████████████████████████▎| 204 kB 5.2 MB/s eta 0:00:01\r\u001b[K     |████████████████████████████████| 209 kB 5.2 MB/s \n",
            "\u001b[?25hInstalling collected packages: Sastrawi\n",
            "Successfully installed Sastrawi-1.0.1\n"
          ]
        }
      ]
    },
    {
      "cell_type": "code",
      "metadata": {
        "id": "Dsxr_gLvY6iF",
        "outputId": "41098457-a177-4be3-9995-8753d1df1e9e",
        "colab": {
          "base_uri": "https://localhost:8080/"
        }
      },
      "source": [
        "import nltk\n",
        "from Sastrawi.StopWordRemover.StopWordRemoverFactory import StopWordRemoverFactory\n",
        "stop_factory = StopWordRemoverFactory()\n",
        "#more_stopword = [‘dengan’, ‘ia’,’bahwa’,’oleh’] \n",
        "data = stop_factory.get_stop_words()\n",
        "stopword = stop_factory.create_stop_word_remover()\n",
        "print(data) #menampilkan stopword yang "
      ],
      "execution_count": 32,
      "outputs": [
        {
          "output_type": "stream",
          "name": "stdout",
          "text": [
            "['yang', 'untuk', 'pada', 'ke', 'para', 'namun', 'menurut', 'antara', 'dia', 'dua', 'ia', 'seperti', 'jika', 'jika', 'sehingga', 'kembali', 'dan', 'tidak', 'ini', 'karena', 'kepada', 'oleh', 'saat', 'harus', 'sementara', 'setelah', 'belum', 'kami', 'sekitar', 'bagi', 'serta', 'di', 'dari', 'telah', 'sebagai', 'masih', 'hal', 'ketika', 'adalah', 'itu', 'dalam', 'bisa', 'bahwa', 'atau', 'hanya', 'kita', 'dengan', 'akan', 'juga', 'ada', 'mereka', 'sudah', 'saya', 'terhadap', 'secara', 'agar', 'lain', 'anda', 'begitu', 'mengapa', 'kenapa', 'yaitu', 'yakni', 'daripada', 'itulah', 'lagi', 'maka', 'tentang', 'demi', 'dimana', 'kemana', 'pula', 'sambil', 'sebelum', 'sesudah', 'supaya', 'guna', 'kah', 'pun', 'sampai', 'sedangkan', 'selagi', 'sementara', 'tetapi', 'apakah', 'kecuali', 'sebab', 'selain', 'seolah', 'seraya', 'seterusnya', 'tanpa', 'agak', 'boleh', 'dapat', 'dsb', 'dst', 'dll', 'dahulu', 'dulunya', 'anu', 'demikian', 'tapi', 'ingin', 'juga', 'nggak', 'mari', 'nanti', 'melainkan', 'oh', 'ok', 'seharusnya', 'sebetulnya', 'setiap', 'setidaknya', 'sesuatu', 'pasti', 'saja', 'toh', 'ya', 'walau', 'tolong', 'tentu', 'amat', 'apalagi', 'bagaimanapun']\n"
          ]
        }
      ]
    },
    {
      "cell_type": "code",
      "metadata": {
        "id": "y3CDSSCuZKIb"
      },
      "source": [
        "sentence_no_stop = []\n",
        "for i in range(len(split_sentence)):\n",
        "  no_stopword = stopword.remove(split_sentence[i])\n",
        "  sentence_no_stop.append(no_stopword)"
      ],
      "execution_count": 38,
      "outputs": []
    },
    {
      "cell_type": "code",
      "metadata": {
        "id": "p14-RGgBaRgB",
        "outputId": "5795512d-b0a4-49d0-cc12-69dbddaa8dc4",
        "colab": {
          "base_uri": "https://localhost:8080/"
        }
      },
      "source": [
        "sentence_no_stop"
      ],
      "execution_count": 39,
      "outputs": [
        {
          "output_type": "execute_result",
          "data": {
            "text/plain": [
              "['pandemi coronavirus disease covid19 menyerang seluruh penjuru dunia termasuk indonesia',\n",
              " 'data dirilis worldometersinfo tanggal 16 juli 2021 indonesia menempati urutan ke14 daftar negara jumlah kasus positif covid19 terbanyak',\n",
              " 'bulan juni juli kasus perharinya naik mencapai 10000 lebih hingga 56000 kasus covid19 ini mengindikasikan penularan covid19 indonesia semakin masif',\n",
              " 'padahal dampak ditimbulkan pandemi sangat besar mempengaruhi berbagai aspek kehidupan salah satunya aspek ekonomi',\n",
              " 'aspek ekonomi terdampak paling signifikan di sektor industri penyumbang angka pengangguran tertinggiindonesia mengalami kontraksi pertumbuhan ekonomi kuartal i tahun 2021',\n",
              " 'data badan pusat statistika bps dilansir bpsgoid pertumbuhan ekonomi indonesia triwulan i2021 triwulan i2020 minus 074 persen yony',\n",
              " 'triwulan sebelumnya mengalami kontraksi sebesar minus 096 persen yony',\n",
              " 'rendahnya pertumbuhan ekonomi disebabkan pandemi covid19 tidak terkendali',\n",
              " 'ini berdampak sektor industri sisi eksternalpermasalahan industri mulai terkendali diakibatkan efek eksternal kebijakan diambil selama masa pandemi covid19',\n",
              " 'siregar 2020 industri negeri mengalami tujuh permasalahan lumayan berat',\n",
              " 'tujuh permasalahan tersebut lain kurangnya raw material didapat industri gas kondensat biji besi naphta',\n",
              " 'ini sangat mempengaruhi produksi ada dalam negeri memaksa mengimpor raw material harga seharusnya murah kalau didapat dalam negeri menjadi lebih mahal',\n",
              " 'semakin mahal raw material semakin mahal produk dihasilkan membuat peluang tersendiri produk impor',\n",
              " 'produk impor bahan baku murah menjualnya harga jauh lebih murah produk negeri membuat konsumen lebih banyak memilih produk luar negeri',\n",
              " 'permasalahan kedua banyaknya produk impor ada indonesia menjadi tekanan tersendiri industri ada dalam negeriketiga infrastruktur kurang memadai negara halnya jalan pelabuhan kawasan industri melakukan pendistribusian produk dari industri tersebut',\n",
              " 'pendistribusian produk tidak lancar dialami industri membawa dampak negara terjadi inflasi',\n",
              " 'badan pusat statistika bps ekonomibisniscom selama pandemi covid19 mengalami penurunan daya beli barang masyarakat daerah tertentu',\n",
              " 'bulan april 2020 bps mencatat inflasi terjadi sebesar 008 persen mtm dipengaruhi penurunan daya beli masyarakat',\n",
              " 'itu tahun tahun bps mencatat inflasi sebesar 276 persen yoy',\n",
              " 'rendahnya daya beli masyarakat menjadi tekanan tersendiri industri mempertahankan usahanya keempat kekurangan utility listrik gas air pengelolaan limbah industri',\n",
              " 'kelima pengelolaan limbah industri terlalu ketat terlalu spesifik menyulitkan industri',\n",
              " 'keenam industri kecil menengah ikm mengalami kesulitan akses pembiayaan ketersediaan bahan baku bahan pengganti maupun hal pemasaran',\n",
              " 'permasalahan terakhir tenaga kerja kurang terampil sangat berpengaruh kemajuan industri menghadapi permasalahan eksternalmenurut rochanah 2020 mahasiswa merupakan suatu individu memiliki tingkatan tertinggi dunia pendidikan',\n",
              " 'peran dalam meningkatkan memajukan tatanan masyarakat hal teristimewa setiap individu mahasiswa',\n",
              " 'kehidupan mahasiswa memegang tiga peranannya masyarakat agent of change social control iron stock',\n",
              " 'peran mahasiswa agent of change memiliki arti mahasiswa action bukan berpangku tangan manakala melihat keadaan meresahkan suatu masyarakat',\n",
              " 'itu mahasiswa berperan social control iron stock artinya pengontrol aturan kebijakan dikeluarkan pemerintah mahasiswa diharapkan menjadi generasi penerus bangsa tangguh memiliki moral baik',\n",
              " 'sikap tangguh dimiliki mahasiswa ditunjukkan setiap keadaan memiliki semangat juang tinggi pantang menyerahmahasiswa dituntut berpikir depan masa depan negara lebih baik',\n",
              " 'tuntutan tersebut terlampir visi misi maupun pilar dalampembangunan indonesia tahun 2045',\n",
              " 'disebutkan peningkatan sumbangan ilmu pengetahuan teknologi pembangunan sebagian besar diperuntukkan mahasiswa bappenas',\n",
              " '2020',\n",
              " 'peningkatan tersebut dibenarkan pernyataan pilar pembangunan menyebutkan adanya peningkatan pengembangan rd tahun 2045 sebesar 15  2 kolaborasi triple helix',\n",
              " 'kolaborasi triple helix merupakan bentuk kerjasama melibatkan tiga bagian perguruan tinggi swasta pemerintah kolaborasi ditujukan proses hilirisasi komersialisasi setiap penelitian akan diangkat dijalankan mahasiswa',\n",
              " 'ini membuat mahasiswa berlomba  lomba membuat menggagas ide  ide maupun penemuan  penemuan baru menyelesaikan masalah ada masyarakat khususnya membantu pembangunan indonesia lebih baik',\n",
              " 'meskipun segala ide maupun gagasan dibuat mahasiswa menjadi suatu tumpukan ide',\n",
              " 'banyak sekali ide disajikan mahasiswa semua sebatas ide',\n",
              " 'jarang sekali ide diajukan terealisasi bentuk seharusnya diberikan ide tersebut',\n",
              " 'itu ide diajukan banyak berpacu kebijakan pemerintah untuk ide terkait pemecahan masalah industri tertentu jarang ditemui hampir ada',\n",
              " 'kenyataannya ini industri keadaan membutuhkan ide mahasiswa menyelesaikan permasalahan',\n",
              " 'sedikit mahasiswa berpikir industri merupakan komponen penting suatu negara',\n",
              " 'negara memiliki suatu industri usaha mengelola sumber dayanya dalam memenuhi kebutuhan negara melakukan pertumbuhan ekonomi dirasa tidak mungkin dilakukanpada tahun 2020 dengan tahun 2035 indonesia diprediksi mengalami bonus demografi signifikan',\n",
              " 'bkkbn 2020 bonus demografi bisa menjadi keuntungan bencana bangsa indonesia',\n",
              " 'generasi milenial aset bangsa mampu membawa bangsa indonesia arah pertumbuhan lebih baik',\n",
              " 'generasi milenial menjadi penduduk dominan era bonus demografi cara pandang cara mendidik generasinya terbilang maju unggul berkualitas',\n",
              " 'generasi inilah akan menentukan arah roda pembangunan indonesia',\n",
              " 'fenomena dapatmenjadi peluang indonesia meningkatkan kualitas produktivitas sumber daya manusia usia produktif berlimpah menghadapi pasar bebas tenaga kerja',\n",
              " 'pemenuhan kualitas produktivitas generasi bisa dicapai indonesia siap menghadapi adanya era bonus demografi inimahasiswa generasi milenial sekaligus penyumbang ide terbesar ilmu pengetahuan teknologi tidak terpaku kebijakan pemerintah',\n",
              " 'padahal kenyataan banyak permasalahan timbul masyarakat harus diselesaikan mahasiswa',\n",
              " 'itu tridharma perguruan tinggi terdiri pendidikan pengajaran penelitian pengembangan pengabdian masyarakat mengharuskan mahasiswa maupun instansi berpikir kritis menyelesaikan menghasilkan penemuan maupun ide masyarakat khususnya bidang industri sangat berpengaruh dalam pertumbuhan ekonomi ini',\n",
              " 'disini peneliti memberikan solusi mahasiswa instansi berperan aktif semua disebutkan diatas dapat merealisasikan idenya keadaan yang sesuai provider rd',\n",
              " 'provider rd merupakan sebuah platform akan menjembatani si penerima masalah industri si pemberi solusi mahasiswa instansi mewujudkan indonesia lebih baik',\n",
              " 'provider rd memberikan seseorang lebih produktif berkualitas sebuah penelitian pengembangan ide',\n",
              " 'itu platform membuat indonesia lebih siap menghadapi era demografi menambah kualitas produktivitas generasi milenial menyelesaikan permasalahan merealisasikannya terbuang siasia']"
            ]
          },
          "metadata": {},
          "execution_count": 39
        }
      ]
    },
    {
      "cell_type": "code",
      "metadata": {
        "id": "3T2SNjkgaS2q"
      },
      "source": [
        ""
      ],
      "execution_count": null,
      "outputs": []
    }
  ]
}