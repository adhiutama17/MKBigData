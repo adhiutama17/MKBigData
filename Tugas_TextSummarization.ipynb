{
  "nbformat": 4,
  "nbformat_minor": 0,
  "metadata": {
    "colab": {
      "name": "Tugas-TextSummarization.ipynb",
      "provenance": [],
      "authorship_tag": "ABX9TyNiOo+84QuOt4KpQMLsD72K",
      "include_colab_link": true
    },
    "kernelspec": {
      "name": "python3",
      "display_name": "Python 3"
    },
    "language_info": {
      "name": "python"
    }
  },
  "cells": [
    {
      "cell_type": "markdown",
      "metadata": {
        "id": "view-in-github",
        "colab_type": "text"
      },
      "source": [
        "<a href=\"https://colab.research.google.com/github/adhiutama17/MKBigData/blob/main/Tugas_TextSummarization.ipynb\" target=\"_parent\"><img src=\"https://colab.research.google.com/assets/colab-badge.svg\" alt=\"Open In Colab\"/></a>"
      ]
    },
    {
      "cell_type": "markdown",
      "metadata": {
        "id": "imCdmYCt4FgJ"
      },
      "source": [
        "# TUGAS Big Data\n",
        "Text Summarization untuk artikel Ilmiah"
      ]
    },
    {
      "cell_type": "markdown",
      "metadata": {
        "id": "5o1En3LFLf8-"
      },
      "source": [
        "## Pre-Process\n",
        "Pre-Process yang dilakukan:\n",
        "* lowercase\n",
        "* punctuation removal\n",
        "* stop-word removal\n",
        "* term-frequency \n",
        "\n"
      ]
    },
    {
      "cell_type": "markdown",
      "metadata": {
        "id": "yeMXtF4nL9_4"
      },
      "source": [
        "### Integrasi Google Colab dengan Github\n",
        "Github merupakan repository online untuk bisa menyimpan dan mengolah keperluan programmer. Github atas nama 'adhiutama17' dengan repository 'MKBigData'. File artikel ilmiah akan diberikan pada repository github tersebut"
      ]
    },
    {
      "cell_type": "code",
      "metadata": {
        "colab": {
          "base_uri": "https://localhost:8080/"
        },
        "id": "qd9Gvjgp47a2",
        "outputId": "9f912742-db1d-4709-80dd-6ad3ac24b2f8"
      },
      "source": [
        "!git clone https://github.com/adhiutama17/MKBigData"
      ],
      "execution_count": null,
      "outputs": [
        {
          "output_type": "stream",
          "name": "stdout",
          "text": [
            "fatal: destination path 'MKBigData' already exists and is not an empty directory.\n"
          ]
        }
      ]
    },
    {
      "cell_type": "code",
      "metadata": {
        "id": "E1HPbEth7myM",
        "colab": {
          "base_uri": "https://localhost:8080/"
        },
        "outputId": "f8185652-dcc2-4bc5-9572-df4115a8ad08"
      },
      "source": [
        "# Melihat isi file pada repository /MKBigData\n",
        "!ls MKBigData"
      ],
      "execution_count": null,
      "outputs": [
        {
          "output_type": "stream",
          "name": "stdout",
          "text": [
            "Teks  Tugas.ipynb\n"
          ]
        }
      ]
    },
    {
      "cell_type": "markdown",
      "metadata": {
        "id": "nlmtb5I1Misc"
      },
      "source": [
        ""
      ]
    },
    {
      "cell_type": "code",
      "metadata": {
        "id": "JgeERSs8MbGZ"
      },
      "source": [
        ""
      ],
      "execution_count": null,
      "outputs": []
    }
  ]
}