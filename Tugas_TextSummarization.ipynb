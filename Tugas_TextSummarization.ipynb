{
  "nbformat": 4,
  "nbformat_minor": 0,
  "metadata": {
    "colab": {
      "name": "Tugas-TextSummarization.ipynb",
      "provenance": [],
      "include_colab_link": true
    },
    "kernelspec": {
      "name": "python3",
      "display_name": "Python 3"
    },
    "language_info": {
      "name": "python"
    }
  },
  "cells": [
    {
      "cell_type": "markdown",
      "metadata": {
        "id": "view-in-github",
        "colab_type": "text"
      },
      "source": [
        "<a href=\"https://colab.research.google.com/github/adhiutama17/MKBigData/blob/main/Tugas_TextSummarization.ipynb\" target=\"_parent\"><img src=\"https://colab.research.google.com/assets/colab-badge.svg\" alt=\"Open In Colab\"/></a>"
      ]
    },
    {
      "cell_type": "markdown",
      "metadata": {
        "id": "imCdmYCt4FgJ"
      },
      "source": [
        "# TUGAS Big Data\n",
        "Text Summarization untuk artikel Ilmiah"
      ]
    },
    {
      "cell_type": "markdown",
      "metadata": {
        "id": "5o1En3LFLf8-"
      },
      "source": [
        "## Pre-Process\n",
        "Pre-Process yang dilakukan:\n",
        "* lowercase\n",
        "* punctuation removal\n",
        "* stop-word removal\n",
        "* term-frequency \n",
        "\n"
      ]
    },
    {
      "cell_type": "markdown",
      "metadata": {
        "id": "yeMXtF4nL9_4"
      },
      "source": [
        "### Integrasi Google Colab dengan Github\n",
        "Github merupakan repository online untuk bisa menyimpan dan mengolah keperluan programmer. Github atas nama 'adhiutama17' dengan repository 'MKBigData'. File artikel ilmiah akan diberikan pada repository github tersebut"
      ]
    },
    {
      "cell_type": "code",
      "metadata": {
        "colab": {
          "base_uri": "https://localhost:8080/"
        },
        "id": "qd9Gvjgp47a2",
        "outputId": "94b4e7e5-789a-4b8d-ee51-c1d919f488bf"
      },
      "source": [
        "!git clone https://github.com/adhiutama17/MKBigData"
      ],
      "execution_count": 1,
      "outputs": [
        {
          "output_type": "stream",
          "name": "stdout",
          "text": [
            "Cloning into 'MKBigData'...\n",
            "remote: Enumerating objects: 76, done.\u001b[K\n",
            "remote: Counting objects: 100% (76/76), done.\u001b[K\n",
            "remote: Compressing objects: 100% (66/66), done.\u001b[K\n",
            "remote: Total 76 (delta 36), reused 34 (delta 8), pack-reused 0\u001b[K\n",
            "Unpacking objects: 100% (76/76), done.\n"
          ]
        }
      ]
    },
    {
      "cell_type": "code",
      "metadata": {
        "id": "E1HPbEth7myM",
        "colab": {
          "base_uri": "https://localhost:8080/"
        },
        "outputId": "3d811408-8dc3-4ca6-de0b-f89efbc37336"
      },
      "source": [
        "# Melihat isi file pada repository /MKBigData\n",
        "!ls MKBigData"
      ],
      "execution_count": 2,
      "outputs": [
        {
          "output_type": "stream",
          "name": "stdout",
          "text": [
            "stopword-indo.txt  Teks  Tugas.ipynb  Tugas_TextSummarization.ipynb\n"
          ]
        }
      ]
    },
    {
      "cell_type": "markdown",
      "metadata": {
        "id": "nlmtb5I1Misc"
      },
      "source": [
        "### Membuka file, lowercase, dan split per kalimat\n",
        "split kalimat menggunakan tanda baca \".\""
      ]
    },
    {
      "cell_type": "code",
      "metadata": {
        "id": "JgeERSs8MbGZ"
      },
      "source": [
        "#membuka file artikel\n",
        "artikel_path = 'MKBigData/Teks/Provider-RnD.txt'\n",
        "artikel_file = (open(artikel_path,\"r\").read()).replace(\"\\n\",\"\").lower() #lowercase dan hapus \"\\n\"\n",
        "split_sentence = (artikel_file.split(\". \"))"
      ],
      "execution_count": 3,
      "outputs": []
    },
    {
      "cell_type": "code",
      "metadata": {
        "colab": {
          "base_uri": "https://localhost:8080/",
          "height": 956
        },
        "id": "SvkaheTQa_cT",
        "outputId": "823b48e5-e51a-48bd-82f7-6d43c8623326"
      },
      "source": [
        "artikel_file"
      ],
      "execution_count": null,
      "outputs": [
        {
          "output_type": "execute_result",
          "data": {
            "application/vnd.google.colaboratory.intrinsic+json": {
              "type": "string"
            },
            "text/plain": [
              "'pandemi coronavirus disease (covid-19) menyerang seluruh penjuru dunia termasuk indonesia. menurut data yang dirilis worldometers.info pada tanggal 16 juli 2021, indonesia menempati urutan ke-14 dalam daftar negara dengan jumlah kasus positif covid-19 terbanyak. pada bulan juni sampai juli, kasus perharinya naik mencapai 10.000 lebih hingga 56.000 kasus covid-19 hal ini mengindikasikan bahwa penularan covid-19 di indonesia semakin masif. padahal dampak yang ditimbulkan dari pandemi ini sangat besar dan mempengaruhi berbagai aspek kehidupan, salah satunya adalah aspek ekonomi. aspek ekonomi yang terdampak paling signifikan adalah di sektor industri dengan penyumbang angka pengangguran tertinggi.indonesia mengalami kontraksi pertumbuhan ekonomi pada kuartal i tahun 2021. menurut data badan pusat statistika (bps) yang dilansir oleh bps.go.id, pertumbuhan ekonomi indonesia pada triwulan i-2021 terhadap triwulan i-2020 minus 0,74 persen (y-on-y). pada triwulan sebelumnya mengalami kontraksi sebesar minus 0,96 persen (y-on-y). rendahnya pertumbuhan ekonomi ini disebabkan oleh pandemi covid-19 yang tidak terkendali. hal ini berdampak pada sektor industri pada sisi eksternal.permasalahan industri mulai tidak terkendali yang diakibatkan oleh efek eksternal seperti kebijakan yang diambil selama masa pandemi covid-19. menurut siregar (2020) industri dalam negeri mengalami tujuh permasalahan yang lumayan berat. tujuh permasalahan tersebut antara lain, kurangnya raw material yang didapat oleh industri, seperti gas, kondensat, biji besi, dan naphta. hal ini sangat mempengaruhi produksi yang ada di dalam negeri, yaitu memaksa mereka mengimpor raw material dengan harga yang seharusnya murah kalau didapat di dalam negeri menjadi lebih mahal. semakin mahal raw material semakin mahal pula produk yang dihasilkan yang membuat peluang tersendiri dari produk impor. produk impor dengan bahan baku murah menjualnya dengan harga yang jauh lebih murah daripada produk dalam negeri, sehingga membuat konsumen lebih banyak memilih produk luar negeri. maka dari itu permasalahan yang kedua adalah banyaknya produk impor yang ada di indonesia menjadi tekanan tersendiri oleh industri yang ada di dalam negeri.ketiga, infrastruktur yang kurang memadai oleh negara (seperti halnya jalan, pelabuhan, dan kawasan industri) untuk melakukan pendistribusian produk dari industri tersebut. pendistribusian produk yang tidak lancar yang dialami industri membawa dampak bagi negara yaitu terjadi inflasi. menurut badan pusat statistika (bps) dalam ekonomi.bisnis.com bahwa selama pandemi covid-19 mengalami penurunan daya beli barang oleh masyarakat di daerah tertentu. pada bulan april 2020 bps mencatat inflasi yang terjadi sebesar 0,08 persen (mtm) yang dipengaruhi oleh penurunan daya beli masyarakat. setelah itu, setiap tahun ke tahun, bps mencatat inflasi sebesar 2,76 persen (y-o-y). rendahnya daya beli masyarakat dapat menjadi tekanan tersendiri untuk industri dalam mempertahankan usahanya keempat, kekurangan utility (listrik, gas, air dan pengelolaan limbah industri). kelima, pengelolaan limbah industri yang terlalu ketat dan terlalu spesifik menyulitkan industri. keenam, industri kecil menengah (ikm) mengalami kesulitan dalam akses pembiayaan, ketersediaan bahan baku atau bahan pengganti, maupun dalam hal pemasaran. permasalahan terakhir yaitu tenaga kerja yang kurang terampil sangat berpengaruh akan kemajuan dari industri dalam menghadapi permasalahan dari eksternal.menurut rochanah (2020) mahasiswa merupakan suatu individu yang memiliki tingkatan tertinggi dalam dunia pendidikan. peran di dalam meningkatkan atau memajukan tatanan masyarakat adalah hal teristimewa bagi setiap individu mahasiswa. dalam kehidupan mahasiswa harus memegang tiga peranannya dalam masyarakat, yaitu agent of change, social control, dan iron stock.. peran mahasiswa sebagai agent of change memiliki arti dimana mahasiswa harus action dan bukan hanya berpangku tangan manakala melihat keadaan yang meresahkan dalam suatu masyarakat. selain itu, mahasiswa juga berperan sebagai social control dan iron stock yang artinya, pengontrol aturan dan kebijakan yang dikeluarkan pemerintah, serta mahasiswa diharapkan menjadi generasi penerus bangsa yang tangguh dan memiliki moral yang baik. sikap tangguh yang dimiliki mahasiswa harus ditunjukkan dalam setiap keadaan, memiliki semangat juang yang tinggi dan pantang menyerah.mahasiswa dituntut untuk berpikir ke depan untuk masa depan negara yang lebih baik. tuntutan tersebut juga terlampir dalam visi misi maupun pilar dalampembangunan indonesia tahun 2045. disebutkan bahwa peningkatan sumbangan ilmu pengetahuan dan teknologi dalam pembangunan sebagian besar diperuntukkan oleh mahasiswa (bappenas. 2020). peningkatan tersebut dibenarkan dalam pernyataan pilar pembangunan yang menyebutkan adanya peningkatan dan pengembangan (r&d) untuk tahun 2045 sebesar 1,5 - 2% dari kolaborasi triple helix. kolaborasi triple helix merupakan bentuk kerjasama yang melibatkan tiga bagian yaitu perguruan tinggi, swasta, dan pemerintah, dimana kolaborasi ini ditujukan untuk proses hilirisasi dan komersialisasi pada setiap penelitian yang akan diangkat serta dijalankan mahasiswa. hal ini membuat mahasiswa berlomba - lomba untuk membuat atau menggagas ide - ide maupun penemuan - penemuan baru dalam menyelesaikan masalah yang ada di masyarakat khususnya dalam membantu pembangunan indonesia yang lebih baik. meskipun demikian, segala ide maupun gagasan yang dibuat oleh mahasiswa hanya menjadi suatu tumpukan ide. banyak sekali ide yang disajikan oleh mahasiswa tetapi semua hanya sebatas ide. jarang sekali ide yang diajukan terealisasi dalam bentuk yang seharusnya diberikan dalam ide tersebut. selain itu, ide yang diajukan banyak yang berpacu pada kebijakan pemerintah dan untuk ide terkait pemecahan masalah dalam industri tertentu masih jarang ditemui atau hampir tidak ada. pada kenyataannya saat ini industri dalam keadaan yang membutuhkan ide dari mahasiswa untuk menyelesaikan permasalahan. sedikit mahasiswa berpikir bahwa industri merupakan komponen penting dalam suatu negara. negara yang tidak memiliki suatu industri atau usaha untuk mengelola sumber dayanya, maka dalam memenuhi kebutuhan negara atau melakukan pertumbuhan ekonomi dirasa tidak mungkin bisa dilakukan.pada tahun 2020 sampai dengan tahun 2035 indonesia diprediksi akan mengalami bonus demografi secara signifikan. menurut bkkbn (2020) bonus demografi ini bisa menjadi keuntungan dan bencana bagi bangsa indonesia. generasi milenial adalah aset bangsa yang mampu membawa bangsa indonesia ke arah pertumbuhan yang lebih baik. generasi milenial akan menjadi penduduk dominan dalam era bonus demografi, dimana cara pandang dan cara mendidik generasinya yang terbilang maju, unggul, serta berkualitas. generasi inilah yang akan menentukan arah dan roda pembangunan indonesia. fenomena ini dapatmenjadi peluang bagi indonesia untuk meningkatkan kualitas dan produktivitas sumber daya manusia di usia produktif yang berlimpah dalam menghadapi pasar bebas tenaga kerja. jika pemenuhan kualitas dan produktivitas dari generasi ini bisa dicapai, maka indonesia akan siap untuk menghadapi adanya era bonus demografi ini.mahasiswa sebagai generasi milenial sekaligus penyumbang ide terbesar dalam ilmu pengetahuan dan teknologi, seharusnya tidak terpaku pada kebijakan pemerintah. padahal di kenyataan banyak permasalahan yang timbul di masyarakat dan harus diselesaikan oleh mahasiswa. selain itu, tridharma perguruan tinggi (yang terdiri dari pendidikan dan pengajaran, penelitian dan pengembangan, serta pengabdian di masyarakat) mengharuskan mahasiswa maupun instansi berpikir kritis untuk menyelesaikan atau menghasilkan penemuan maupun ide di dalam masyarakat khususnya di bidang industri yang sangat berpengaruh dalam pertumbuhan ekonomi saat ini. disini peneliti memberikan solusi agar mahasiswa dan instansi berperan aktif dalam semua hal yang telah disebutkan diatas, sehingga dapat merealisasikan idenya di keadaan yang sesuai dalam provider r&d. provider r&d merupakan sebuah platform yang akan menjembatani si penerima masalah (industri) dan si pemberi solusi (mahasiswa dan instansi) untuk mewujudkan indonesia yang lebih baik. provider r&d memberikan seseorang lebih produktif dan berkualitas dalam sebuah penelitian dan pengembangan ide. selain itu, platform ini membuat indonesia lebih siap untuk menghadapi era demografi dengan menambah kualitas dan produktivitas generasi milenial untuk menyelesaikan permasalahan dan merealisasikannya tanpa terbuang sia-sia.'"
            ]
          },
          "metadata": {},
          "execution_count": 40
        }
      ]
    },
    {
      "cell_type": "code",
      "metadata": {
        "colab": {
          "base_uri": "https://localhost:8080/"
        },
        "id": "hrz-tG2EVqPt",
        "outputId": "68f9bafc-ee14-4966-e195-f4e9a3e07666"
      },
      "source": [
        "split_sentence"
      ],
      "execution_count": null,
      "outputs": [
        {
          "output_type": "execute_result",
          "data": {
            "text/plain": [
              "['pandemi coronavirus disease (covid-19) menyerang seluruh penjuru dunia termasuk indonesia',\n",
              " 'menurut data yang dirilis worldometers.info pada tanggal 16 juli 2021, indonesia menempati urutan ke-14 dalam daftar negara dengan jumlah kasus positif covid-19 terbanyak',\n",
              " 'pada bulan juni sampai juli, kasus perharinya naik mencapai 10.000 lebih hingga 56.000 kasus covid-19 hal ini mengindikasikan bahwa penularan covid-19 di indonesia semakin masif',\n",
              " 'padahal dampak yang ditimbulkan dari pandemi ini sangat besar dan mempengaruhi berbagai aspek kehidupan, salah satunya adalah aspek ekonomi',\n",
              " 'aspek ekonomi yang terdampak paling signifikan adalah di sektor industri dengan penyumbang angka pengangguran tertinggi.indonesia mengalami kontraksi pertumbuhan ekonomi pada kuartal i tahun 2021',\n",
              " 'menurut data badan pusat statistika (bps) yang dilansir oleh bps.go.id, pertumbuhan ekonomi indonesia pada triwulan i-2021 terhadap triwulan i-2020 minus 0,74 persen (y-on-y)',\n",
              " 'pada triwulan sebelumnya mengalami kontraksi sebesar minus 0,96 persen (y-on-y)',\n",
              " 'rendahnya pertumbuhan ekonomi ini disebabkan oleh pandemi covid-19 yang tidak terkendali',\n",
              " 'hal ini berdampak pada sektor industri pada sisi eksternal.permasalahan industri mulai tidak terkendali yang diakibatkan oleh efek eksternal seperti kebijakan yang diambil selama masa pandemi covid-19',\n",
              " 'menurut siregar (2020) industri dalam negeri mengalami tujuh permasalahan yang lumayan berat',\n",
              " 'tujuh permasalahan tersebut antara lain, kurangnya raw material yang didapat oleh industri, seperti gas, kondensat, biji besi, dan naphta',\n",
              " 'hal ini sangat mempengaruhi produksi yang ada di dalam negeri, yaitu memaksa mereka mengimpor raw material dengan harga yang seharusnya murah kalau didapat di dalam negeri menjadi lebih mahal',\n",
              " 'semakin mahal raw material semakin mahal pula produk yang dihasilkan yang membuat peluang tersendiri dari produk impor',\n",
              " 'produk impor dengan bahan baku murah menjualnya dengan harga yang jauh lebih murah daripada produk dalam negeri, sehingga membuat konsumen lebih banyak memilih produk luar negeri',\n",
              " 'maka dari itu permasalahan yang kedua adalah banyaknya produk impor yang ada di indonesia menjadi tekanan tersendiri oleh industri yang ada di dalam negeri.ketiga, infrastruktur yang kurang memadai oleh negara (seperti halnya jalan, pelabuhan, dan kawasan industri) untuk melakukan pendistribusian produk dari industri tersebut',\n",
              " 'pendistribusian produk yang tidak lancar yang dialami industri membawa dampak bagi negara yaitu terjadi inflasi',\n",
              " 'menurut badan pusat statistika (bps) dalam ekonomi.bisnis.com bahwa selama pandemi covid-19 mengalami penurunan daya beli barang oleh masyarakat di daerah tertentu',\n",
              " 'pada bulan april 2020 bps mencatat inflasi yang terjadi sebesar 0,08 persen (mtm) yang dipengaruhi oleh penurunan daya beli masyarakat',\n",
              " 'setelah itu, setiap tahun ke tahun, bps mencatat inflasi sebesar 2,76 persen (y-o-y)',\n",
              " 'rendahnya daya beli masyarakat dapat menjadi tekanan tersendiri untuk industri dalam mempertahankan usahanya keempat, kekurangan utility (listrik, gas, air dan pengelolaan limbah industri)',\n",
              " 'kelima, pengelolaan limbah industri yang terlalu ketat dan terlalu spesifik menyulitkan industri',\n",
              " 'keenam, industri kecil menengah (ikm) mengalami kesulitan dalam akses pembiayaan, ketersediaan bahan baku atau bahan pengganti, maupun dalam hal pemasaran',\n",
              " 'permasalahan terakhir yaitu tenaga kerja yang kurang terampil sangat berpengaruh akan kemajuan dari industri dalam menghadapi permasalahan dari eksternal.menurut rochanah (2020) mahasiswa merupakan suatu individu yang memiliki tingkatan tertinggi dalam dunia pendidikan',\n",
              " 'peran di dalam meningkatkan atau memajukan tatanan masyarakat adalah hal teristimewa bagi setiap individu mahasiswa',\n",
              " 'dalam kehidupan mahasiswa harus memegang tiga peranannya dalam masyarakat, yaitu agent of change, social control, dan iron stock.',\n",
              " 'peran mahasiswa sebagai agent of change memiliki arti dimana mahasiswa harus action dan bukan hanya berpangku tangan manakala melihat keadaan yang meresahkan dalam suatu masyarakat',\n",
              " 'selain itu, mahasiswa juga berperan sebagai social control dan iron stock yang artinya, pengontrol aturan dan kebijakan yang dikeluarkan pemerintah, serta mahasiswa diharapkan menjadi generasi penerus bangsa yang tangguh dan memiliki moral yang baik',\n",
              " 'sikap tangguh yang dimiliki mahasiswa harus ditunjukkan dalam setiap keadaan, memiliki semangat juang yang tinggi dan pantang menyerah.mahasiswa dituntut untuk berpikir ke depan untuk masa depan negara yang lebih baik',\n",
              " 'tuntutan tersebut juga terlampir dalam visi misi maupun pilar dalampembangunan indonesia tahun 2045',\n",
              " 'disebutkan bahwa peningkatan sumbangan ilmu pengetahuan dan teknologi dalam pembangunan sebagian besar diperuntukkan oleh mahasiswa (bappenas',\n",
              " '2020)',\n",
              " 'peningkatan tersebut dibenarkan dalam pernyataan pilar pembangunan yang menyebutkan adanya peningkatan dan pengembangan (r&d) untuk tahun 2045 sebesar 1,5 - 2% dari kolaborasi triple helix',\n",
              " 'kolaborasi triple helix merupakan bentuk kerjasama yang melibatkan tiga bagian yaitu perguruan tinggi, swasta, dan pemerintah, dimana kolaborasi ini ditujukan untuk proses hilirisasi dan komersialisasi pada setiap penelitian yang akan diangkat serta dijalankan mahasiswa',\n",
              " 'hal ini membuat mahasiswa berlomba - lomba untuk membuat atau menggagas ide - ide maupun penemuan - penemuan baru dalam menyelesaikan masalah yang ada di masyarakat khususnya dalam membantu pembangunan indonesia yang lebih baik',\n",
              " 'meskipun demikian, segala ide maupun gagasan yang dibuat oleh mahasiswa hanya menjadi suatu tumpukan ide',\n",
              " 'banyak sekali ide yang disajikan oleh mahasiswa tetapi semua hanya sebatas ide',\n",
              " 'jarang sekali ide yang diajukan terealisasi dalam bentuk yang seharusnya diberikan dalam ide tersebut',\n",
              " 'selain itu, ide yang diajukan banyak yang berpacu pada kebijakan pemerintah dan untuk ide terkait pemecahan masalah dalam industri tertentu masih jarang ditemui atau hampir tidak ada',\n",
              " 'pada kenyataannya saat ini industri dalam keadaan yang membutuhkan ide dari mahasiswa untuk menyelesaikan permasalahan',\n",
              " 'sedikit mahasiswa berpikir bahwa industri merupakan komponen penting dalam suatu negara',\n",
              " 'negara yang tidak memiliki suatu industri atau usaha untuk mengelola sumber dayanya, maka dalam memenuhi kebutuhan negara atau melakukan pertumbuhan ekonomi dirasa tidak mungkin bisa dilakukan.pada tahun 2020 sampai dengan tahun 2035 indonesia diprediksi akan mengalami bonus demografi secara signifikan',\n",
              " 'menurut bkkbn (2020) bonus demografi ini bisa menjadi keuntungan dan bencana bagi bangsa indonesia',\n",
              " 'generasi milenial adalah aset bangsa yang mampu membawa bangsa indonesia ke arah pertumbuhan yang lebih baik',\n",
              " 'generasi milenial akan menjadi penduduk dominan dalam era bonus demografi, dimana cara pandang dan cara mendidik generasinya yang terbilang maju, unggul, serta berkualitas',\n",
              " 'generasi inilah yang akan menentukan arah dan roda pembangunan indonesia',\n",
              " 'fenomena ini dapatmenjadi peluang bagi indonesia untuk meningkatkan kualitas dan produktivitas sumber daya manusia di usia produktif yang berlimpah dalam menghadapi pasar bebas tenaga kerja',\n",
              " 'jika pemenuhan kualitas dan produktivitas dari generasi ini bisa dicapai, maka indonesia akan siap untuk menghadapi adanya era bonus demografi ini.mahasiswa sebagai generasi milenial sekaligus penyumbang ide terbesar dalam ilmu pengetahuan dan teknologi, seharusnya tidak terpaku pada kebijakan pemerintah',\n",
              " 'padahal di kenyataan banyak permasalahan yang timbul di masyarakat dan harus diselesaikan oleh mahasiswa',\n",
              " 'selain itu, tridharma perguruan tinggi (yang terdiri dari pendidikan dan pengajaran, penelitian dan pengembangan, serta pengabdian di masyarakat) mengharuskan mahasiswa maupun instansi berpikir kritis untuk menyelesaikan atau menghasilkan penemuan maupun ide di dalam masyarakat khususnya di bidang industri yang sangat berpengaruh dalam pertumbuhan ekonomi saat ini',\n",
              " 'disini peneliti memberikan solusi agar mahasiswa dan instansi berperan aktif dalam semua hal yang telah disebutkan diatas, sehingga dapat merealisasikan idenya di keadaan yang sesuai dalam provider r&d',\n",
              " 'provider r&d merupakan sebuah platform yang akan menjembatani si penerima masalah (industri) dan si pemberi solusi (mahasiswa dan instansi) untuk mewujudkan indonesia yang lebih baik',\n",
              " 'provider r&d memberikan seseorang lebih produktif dan berkualitas dalam sebuah penelitian dan pengembangan ide',\n",
              " 'selain itu, platform ini membuat indonesia lebih siap untuk menghadapi era demografi dengan menambah kualitas dan produktivitas generasi milenial untuk menyelesaikan permasalahan dan merealisasikannya tanpa terbuang sia-sia.']"
            ]
          },
          "metadata": {},
          "execution_count": 20
        }
      ]
    },
    {
      "cell_type": "markdown",
      "metadata": {
        "id": "ft4wk715Wwd9"
      },
      "source": [
        "### Menghapus punctuation\n",
        "punctuation setiap kalimat dihapus"
      ]
    },
    {
      "cell_type": "code",
      "metadata": {
        "id": "zLObyvjPVtIz"
      },
      "source": [
        "punc = '''!()-[]{};:'\"\\,<>./?@#$%^&*_~''' #tanda baca yang dihilangkan\n",
        "for i in range(len(split_sentence)):\n",
        "  word = \"\"\n",
        "  for char in split_sentence[i]:\n",
        "    if char not in punc:\n",
        "      word += char\n",
        "  split_sentence[i] = word"
      ],
      "execution_count": 4,
      "outputs": []
    },
    {
      "cell_type": "code",
      "metadata": {
        "colab": {
          "base_uri": "https://localhost:8080/"
        },
        "id": "npGaKxzeXOum",
        "outputId": "3bf76a65-25ed-464e-9c27-d0c22954628f"
      },
      "source": [
        "split_sentence"
      ],
      "execution_count": null,
      "outputs": [
        {
          "output_type": "execute_result",
          "data": {
            "text/plain": [
              "['pandemi coronavirus disease covid19 menyerang seluruh penjuru dunia termasuk indonesia',\n",
              " 'menurut data yang dirilis worldometersinfo pada tanggal 16 juli 2021 indonesia menempati urutan ke14 dalam daftar negara dengan jumlah kasus positif covid19 terbanyak',\n",
              " 'pada bulan juni sampai juli kasus perharinya naik mencapai 10000 lebih hingga 56000 kasus covid19 hal ini mengindikasikan bahwa penularan covid19 di indonesia semakin masif',\n",
              " 'padahal dampak yang ditimbulkan dari pandemi ini sangat besar dan mempengaruhi berbagai aspek kehidupan salah satunya adalah aspek ekonomi',\n",
              " 'aspek ekonomi yang terdampak paling signifikan adalah di sektor industri dengan penyumbang angka pengangguran tertinggiindonesia mengalami kontraksi pertumbuhan ekonomi pada kuartal i tahun 2021',\n",
              " 'menurut data badan pusat statistika bps yang dilansir oleh bpsgoid pertumbuhan ekonomi indonesia pada triwulan i2021 terhadap triwulan i2020 minus 074 persen yony',\n",
              " 'pada triwulan sebelumnya mengalami kontraksi sebesar minus 096 persen yony',\n",
              " 'rendahnya pertumbuhan ekonomi ini disebabkan oleh pandemi covid19 yang tidak terkendali',\n",
              " 'hal ini berdampak pada sektor industri pada sisi eksternalpermasalahan industri mulai tidak terkendali yang diakibatkan oleh efek eksternal seperti kebijakan yang diambil selama masa pandemi covid19',\n",
              " 'menurut siregar 2020 industri dalam negeri mengalami tujuh permasalahan yang lumayan berat',\n",
              " 'tujuh permasalahan tersebut antara lain kurangnya raw material yang didapat oleh industri seperti gas kondensat biji besi dan naphta',\n",
              " 'hal ini sangat mempengaruhi produksi yang ada di dalam negeri yaitu memaksa mereka mengimpor raw material dengan harga yang seharusnya murah kalau didapat di dalam negeri menjadi lebih mahal',\n",
              " 'semakin mahal raw material semakin mahal pula produk yang dihasilkan yang membuat peluang tersendiri dari produk impor',\n",
              " 'produk impor dengan bahan baku murah menjualnya dengan harga yang jauh lebih murah daripada produk dalam negeri sehingga membuat konsumen lebih banyak memilih produk luar negeri',\n",
              " 'maka dari itu permasalahan yang kedua adalah banyaknya produk impor yang ada di indonesia menjadi tekanan tersendiri oleh industri yang ada di dalam negeriketiga infrastruktur yang kurang memadai oleh negara seperti halnya jalan pelabuhan dan kawasan industri untuk melakukan pendistribusian produk dari industri tersebut',\n",
              " 'pendistribusian produk yang tidak lancar yang dialami industri membawa dampak bagi negara yaitu terjadi inflasi',\n",
              " 'menurut badan pusat statistika bps dalam ekonomibisniscom bahwa selama pandemi covid19 mengalami penurunan daya beli barang oleh masyarakat di daerah tertentu',\n",
              " 'pada bulan april 2020 bps mencatat inflasi yang terjadi sebesar 008 persen mtm yang dipengaruhi oleh penurunan daya beli masyarakat',\n",
              " 'setelah itu setiap tahun ke tahun bps mencatat inflasi sebesar 276 persen yoy',\n",
              " 'rendahnya daya beli masyarakat dapat menjadi tekanan tersendiri untuk industri dalam mempertahankan usahanya keempat kekurangan utility listrik gas air dan pengelolaan limbah industri',\n",
              " 'kelima pengelolaan limbah industri yang terlalu ketat dan terlalu spesifik menyulitkan industri',\n",
              " 'keenam industri kecil menengah ikm mengalami kesulitan dalam akses pembiayaan ketersediaan bahan baku atau bahan pengganti maupun dalam hal pemasaran',\n",
              " 'permasalahan terakhir yaitu tenaga kerja yang kurang terampil sangat berpengaruh akan kemajuan dari industri dalam menghadapi permasalahan dari eksternalmenurut rochanah 2020 mahasiswa merupakan suatu individu yang memiliki tingkatan tertinggi dalam dunia pendidikan',\n",
              " 'peran di dalam meningkatkan atau memajukan tatanan masyarakat adalah hal teristimewa bagi setiap individu mahasiswa',\n",
              " 'dalam kehidupan mahasiswa harus memegang tiga peranannya dalam masyarakat yaitu agent of change social control dan iron stock',\n",
              " 'peran mahasiswa sebagai agent of change memiliki arti dimana mahasiswa harus action dan bukan hanya berpangku tangan manakala melihat keadaan yang meresahkan dalam suatu masyarakat',\n",
              " 'selain itu mahasiswa juga berperan sebagai social control dan iron stock yang artinya pengontrol aturan dan kebijakan yang dikeluarkan pemerintah serta mahasiswa diharapkan menjadi generasi penerus bangsa yang tangguh dan memiliki moral yang baik',\n",
              " 'sikap tangguh yang dimiliki mahasiswa harus ditunjukkan dalam setiap keadaan memiliki semangat juang yang tinggi dan pantang menyerahmahasiswa dituntut untuk berpikir ke depan untuk masa depan negara yang lebih baik',\n",
              " 'tuntutan tersebut juga terlampir dalam visi misi maupun pilar dalampembangunan indonesia tahun 2045',\n",
              " 'disebutkan bahwa peningkatan sumbangan ilmu pengetahuan dan teknologi dalam pembangunan sebagian besar diperuntukkan oleh mahasiswa bappenas',\n",
              " '2020',\n",
              " 'peningkatan tersebut dibenarkan dalam pernyataan pilar pembangunan yang menyebutkan adanya peningkatan dan pengembangan rd untuk tahun 2045 sebesar 15  2 dari kolaborasi triple helix',\n",
              " 'kolaborasi triple helix merupakan bentuk kerjasama yang melibatkan tiga bagian yaitu perguruan tinggi swasta dan pemerintah dimana kolaborasi ini ditujukan untuk proses hilirisasi dan komersialisasi pada setiap penelitian yang akan diangkat serta dijalankan mahasiswa',\n",
              " 'hal ini membuat mahasiswa berlomba  lomba untuk membuat atau menggagas ide  ide maupun penemuan  penemuan baru dalam menyelesaikan masalah yang ada di masyarakat khususnya dalam membantu pembangunan indonesia yang lebih baik',\n",
              " 'meskipun demikian segala ide maupun gagasan yang dibuat oleh mahasiswa hanya menjadi suatu tumpukan ide',\n",
              " 'banyak sekali ide yang disajikan oleh mahasiswa tetapi semua hanya sebatas ide',\n",
              " 'jarang sekali ide yang diajukan terealisasi dalam bentuk yang seharusnya diberikan dalam ide tersebut',\n",
              " 'selain itu ide yang diajukan banyak yang berpacu pada kebijakan pemerintah dan untuk ide terkait pemecahan masalah dalam industri tertentu masih jarang ditemui atau hampir tidak ada',\n",
              " 'pada kenyataannya saat ini industri dalam keadaan yang membutuhkan ide dari mahasiswa untuk menyelesaikan permasalahan',\n",
              " 'sedikit mahasiswa berpikir bahwa industri merupakan komponen penting dalam suatu negara',\n",
              " 'negara yang tidak memiliki suatu industri atau usaha untuk mengelola sumber dayanya maka dalam memenuhi kebutuhan negara atau melakukan pertumbuhan ekonomi dirasa tidak mungkin bisa dilakukanpada tahun 2020 sampai dengan tahun 2035 indonesia diprediksi akan mengalami bonus demografi secara signifikan',\n",
              " 'menurut bkkbn 2020 bonus demografi ini bisa menjadi keuntungan dan bencana bagi bangsa indonesia',\n",
              " 'generasi milenial adalah aset bangsa yang mampu membawa bangsa indonesia ke arah pertumbuhan yang lebih baik',\n",
              " 'generasi milenial akan menjadi penduduk dominan dalam era bonus demografi dimana cara pandang dan cara mendidik generasinya yang terbilang maju unggul serta berkualitas',\n",
              " 'generasi inilah yang akan menentukan arah dan roda pembangunan indonesia',\n",
              " 'fenomena ini dapatmenjadi peluang bagi indonesia untuk meningkatkan kualitas dan produktivitas sumber daya manusia di usia produktif yang berlimpah dalam menghadapi pasar bebas tenaga kerja',\n",
              " 'jika pemenuhan kualitas dan produktivitas dari generasi ini bisa dicapai maka indonesia akan siap untuk menghadapi adanya era bonus demografi inimahasiswa sebagai generasi milenial sekaligus penyumbang ide terbesar dalam ilmu pengetahuan dan teknologi seharusnya tidak terpaku pada kebijakan pemerintah',\n",
              " 'padahal di kenyataan banyak permasalahan yang timbul di masyarakat dan harus diselesaikan oleh mahasiswa',\n",
              " 'selain itu tridharma perguruan tinggi yang terdiri dari pendidikan dan pengajaran penelitian dan pengembangan serta pengabdian di masyarakat mengharuskan mahasiswa maupun instansi berpikir kritis untuk menyelesaikan atau menghasilkan penemuan maupun ide di dalam masyarakat khususnya di bidang industri yang sangat berpengaruh dalam pertumbuhan ekonomi saat ini',\n",
              " 'disini peneliti memberikan solusi agar mahasiswa dan instansi berperan aktif dalam semua hal yang telah disebutkan diatas sehingga dapat merealisasikan idenya di keadaan yang sesuai dalam provider rd',\n",
              " 'provider rd merupakan sebuah platform yang akan menjembatani si penerima masalah industri dan si pemberi solusi mahasiswa dan instansi untuk mewujudkan indonesia yang lebih baik',\n",
              " 'provider rd memberikan seseorang lebih produktif dan berkualitas dalam sebuah penelitian dan pengembangan ide',\n",
              " 'selain itu platform ini membuat indonesia lebih siap untuk menghadapi era demografi dengan menambah kualitas dan produktivitas generasi milenial untuk menyelesaikan permasalahan dan merealisasikannya tanpa terbuang siasia']"
            ]
          },
          "metadata": {},
          "execution_count": 29
        }
      ]
    },
    {
      "cell_type": "markdown",
      "metadata": {
        "id": "ckgeofxBYWyZ"
      },
      "source": [
        "### Menghapus stopword\n",
        "kamus stopword yang digunakan bersumber dari Sastrawi"
      ]
    },
    {
      "cell_type": "code",
      "metadata": {
        "colab": {
          "base_uri": "https://localhost:8080/"
        },
        "id": "snshokHMXPm-",
        "outputId": "de361f12-517b-4571-a7cd-7a5694692d21"
      },
      "source": [
        "pip install Sastrawi #instalasi library sastrawi"
      ],
      "execution_count": 5,
      "outputs": [
        {
          "output_type": "stream",
          "name": "stdout",
          "text": [
            "Collecting Sastrawi\n",
            "  Downloading Sastrawi-1.0.1-py2.py3-none-any.whl (209 kB)\n",
            "\u001b[?25l\r\u001b[K     |█▋                              | 10 kB 23.3 MB/s eta 0:00:01\r\u001b[K     |███▏                            | 20 kB 26.6 MB/s eta 0:00:01\r\u001b[K     |████▊                           | 30 kB 29.8 MB/s eta 0:00:01\r\u001b[K     |██████▎                         | 40 kB 30.8 MB/s eta 0:00:01\r\u001b[K     |███████▉                        | 51 kB 33.3 MB/s eta 0:00:01\r\u001b[K     |█████████▍                      | 61 kB 35.7 MB/s eta 0:00:01\r\u001b[K     |███████████                     | 71 kB 36.4 MB/s eta 0:00:01\r\u001b[K     |████████████▌                   | 81 kB 37.5 MB/s eta 0:00:01\r\u001b[K     |██████████████                  | 92 kB 38.1 MB/s eta 0:00:01\r\u001b[K     |███████████████▋                | 102 kB 38.1 MB/s eta 0:00:01\r\u001b[K     |█████████████████▏              | 112 kB 38.1 MB/s eta 0:00:01\r\u001b[K     |██████████████████▊             | 122 kB 38.1 MB/s eta 0:00:01\r\u001b[K     |████████████████████▎           | 133 kB 38.1 MB/s eta 0:00:01\r\u001b[K     |█████████████████████▉          | 143 kB 38.1 MB/s eta 0:00:01\r\u001b[K     |███████████████████████▍        | 153 kB 38.1 MB/s eta 0:00:01\r\u001b[K     |█████████████████████████       | 163 kB 38.1 MB/s eta 0:00:01\r\u001b[K     |██████████████████████████▋     | 174 kB 38.1 MB/s eta 0:00:01\r\u001b[K     |████████████████████████████▏   | 184 kB 38.1 MB/s eta 0:00:01\r\u001b[K     |█████████████████████████████▊  | 194 kB 38.1 MB/s eta 0:00:01\r\u001b[K     |███████████████████████████████▎| 204 kB 38.1 MB/s eta 0:00:01\r\u001b[K     |████████████████████████████████| 209 kB 38.1 MB/s \n",
            "\u001b[?25hInstalling collected packages: Sastrawi\n",
            "Successfully installed Sastrawi-1.0.1\n"
          ]
        }
      ]
    },
    {
      "cell_type": "code",
      "metadata": {
        "colab": {
          "base_uri": "https://localhost:8080/"
        },
        "id": "Dsxr_gLvY6iF",
        "outputId": "ed17cf97-ba68-4a2b-db5d-e2c35e13aa58"
      },
      "source": [
        "import nltk\n",
        "from Sastrawi.StopWordRemover.StopWordRemoverFactory import StopWordRemoverFactory\n",
        "stop_factory = StopWordRemoverFactory()\n",
        "#menambahkan stopword yang didapatkan dari library lainnya\n",
        "tambah_stopword = open('MKBigData/stopword-indo.txt',\"r\").readlines()\n",
        "tambah_stopword_clr = [item.replace(\"\\n\", \"\") for item in tambah_stopword]\n",
        "data = stop_factory.get_stop_words() + tambah_stopword_clr\n",
        "stopword = stop_factory.create_stop_word_remover()\n",
        "print(data) #menampilkan stopword"
      ],
      "execution_count": 22,
      "outputs": [
        {
          "output_type": "stream",
          "name": "stdout",
          "text": [
            "['yang', 'untuk', 'pada', 'ke', 'para', 'namun', 'menurut', 'antara', 'dia', 'dua', 'ia', 'seperti', 'jika', 'jika', 'sehingga', 'kembali', 'dan', 'tidak', 'ini', 'karena', 'kepada', 'oleh', 'saat', 'harus', 'sementara', 'setelah', 'belum', 'kami', 'sekitar', 'bagi', 'serta', 'di', 'dari', 'telah', 'sebagai', 'masih', 'hal', 'ketika', 'adalah', 'itu', 'dalam', 'bisa', 'bahwa', 'atau', 'hanya', 'kita', 'dengan', 'akan', 'juga', 'ada', 'mereka', 'sudah', 'saya', 'terhadap', 'secara', 'agar', 'lain', 'anda', 'begitu', 'mengapa', 'kenapa', 'yaitu', 'yakni', 'daripada', 'itulah', 'lagi', 'maka', 'tentang', 'demi', 'dimana', 'kemana', 'pula', 'sambil', 'sebelum', 'sesudah', 'supaya', 'guna', 'kah', 'pun', 'sampai', 'sedangkan', 'selagi', 'sementara', 'tetapi', 'apakah', 'kecuali', 'sebab', 'selain', 'seolah', 'seraya', 'seterusnya', 'tanpa', 'agak', 'boleh', 'dapat', 'dsb', 'dst', 'dll', 'dahulu', 'dulunya', 'anu', 'demikian', 'tapi', 'ingin', 'juga', 'nggak', 'mari', 'nanti', 'melainkan', 'oh', 'ok', 'seharusnya', 'sebetulnya', 'setiap', 'setidaknya', 'sesuatu', 'pasti', 'saja', 'toh', 'ya', 'walau', 'tolong', 'tentu', 'amat', 'apalagi', 'bagaimanapun', 'ada', 'adalah', 'adanya', 'adapun', 'agak', 'agaknya', 'agar', 'akan', 'akankah', 'akhir', 'akhiri', 'akhirnya', 'aku', 'akulah', 'amat', 'amatlah', 'anda', 'andalah', 'antar', 'antara', 'antaranya', 'apa', 'apaan', 'apabila', 'apakah', 'apalagi', 'apatah', 'artinya', 'asal', 'asalkan', 'atas', 'atau', 'ataukah', 'ataupun', 'awal', 'awalnya', 'bagai', 'bagaikan', 'bagaimana', 'bagaimanakah', 'bagaimanapun', 'bagi', 'bagian', 'bahkan', 'bahwa', 'bahwasanya', 'baik', 'bakal', 'bakalan', 'balik', 'banyak', 'bapak', 'baru', 'bawah', 'beberapa', 'begini', 'beginian', 'beginikah', 'beginilah', 'begitu', 'begitukah', 'begitulah', 'begitupun', 'bekerja', 'belakang', 'belakangan', 'belum', 'belumlah', 'benar', 'benarkah', 'benarlah', 'berada', 'berakhir', 'berakhirlah', 'berakhirnya', 'berapa', 'berapakah', 'berapalah', 'berapapun', 'berarti', 'berawal', 'berbagai', 'berdatangan', 'beri', 'berikan', 'berikut', 'berikutnya', 'berjumlah', 'berkali-kali', 'berkata', 'berkehendak', 'berkeinginan', 'berkenaan', 'berlainan', 'berlalu', 'berlangsung', 'berlebihan', 'bermacam', 'bermacam-macam', 'bermaksud', 'bermula', 'bersama', 'bersama-sama', 'bersiap', 'bersiap-siap', 'bertanya', 'bertanya-tanya', 'berturut', 'berturut-turut', 'bertutur', 'berujar', 'berupa', 'besar', 'betul', 'betulkah', 'biasa', 'biasanya', 'bila', 'bilakah', 'bisa', 'bisakah', 'boleh', 'bolehkah', 'bolehlah', 'buat', 'bukan', 'bukankah', 'bukanlah', 'bukannya', 'bulan', 'bung', 'cara', 'caranya', 'cukup', 'cukupkah', 'cukuplah', 'cuma', 'dahulu', 'dalam', 'dan', 'dapat', 'dari', 'daripada', 'datang', 'dekat', 'demi', 'demikian', 'demikianlah', 'dengan', 'depan', 'di', 'dia', 'diakhiri', 'diakhirinya', 'dialah', 'diantara', 'diantaranya', 'diberi', 'diberikan', 'diberikannya', 'dibuat', 'dibuatnya', 'didapat', 'didatangkan', 'digunakan', 'diibaratkan', 'diibaratkannya', 'diingat', 'diingatkan', 'diinginkan', 'dijawab', 'dijelaskan', 'dijelaskannya', 'dikarenakan', 'dikatakan', 'dikatakannya', 'dikerjakan', 'diketahui', 'diketahuinya', 'dikira', 'dilakukan', 'dilalui', 'dilihat', 'dimaksud', 'dimaksudkan', 'dimaksudkannya', 'dimaksudnya', 'diminta', 'dimintai', 'dimisalkan', 'dimulai', 'dimulailah', 'dimulainya', 'dimungkinkan', 'dini', 'dipastikan', 'diperbuat', 'diperbuatnya', 'dipergunakan', 'diperkirakan', 'diperlihatkan', 'diperlukan', 'diperlukannya', 'dipersoalkan', 'dipertanyakan', 'dipunyai', 'diri', 'dirinya', 'disampaikan', 'disebut', 'disebutkan', 'disebutkannya', 'disini', 'disinilah', 'ditambahkan', 'ditandaskan', 'ditanya', 'ditanyai', 'ditanyakan', 'ditegaskan', 'ditujukan', 'ditunjuk', 'ditunjuki', 'ditunjukkan', 'ditunjukkannya', 'ditunjuknya', 'dituturkan', 'dituturkannya', 'diucapkan', 'diucapkannya', 'diungkapkan', 'dong', 'dua', 'dulu', 'empat', 'enggak', 'enggaknya', 'entah', 'entahlah', 'guna', 'gunakan', 'hal', 'hampir', 'hanya', 'hanyalah', 'hari', 'harus', 'haruslah', 'harusnya', 'hendak', 'hendaklah', 'hendaknya', 'hingga', 'ia', 'ialah', 'ibarat', 'ibaratkan', 'ibaratnya', 'ibu', 'ikut', 'ingat', 'ingat-ingat', 'ingin', 'inginkah', 'inginkan', 'ini', 'inikah', 'inilah', 'itu', 'itukah', 'itulah', 'jadi', 'jadilah', 'jadinya', 'jangan', 'jangankan', 'janganlah', 'jauh', 'jawab', 'jawaban', 'jawabnya', 'jelas', 'jelaskan', 'jelaslah', 'jelasnya', 'jika', 'jikalau', 'juga', 'jumlah', 'jumlahnya', 'justru', 'kala', 'kalau', 'kalaulah', 'kalaupun', 'kalian', 'kami', 'kamilah', 'kamu', 'kamulah', 'kan', 'kapan', 'kapankah', 'kapanpun', 'karena', 'karenanya', 'kasus', 'kata', 'katakan', 'katakanlah', 'katanya', 'ke', 'keadaan', 'kebetulan', 'kecil', 'kedua', 'keduanya', 'keinginan', 'kelamaan', 'kelihatan', 'kelihatannya', 'kelima', 'keluar', 'kembali', 'kemudian', 'kemungkinan', 'kemungkinannya', 'kenapa', 'kepada', 'kepadanya', 'kesampaian', 'keseluruhan', 'keseluruhannya', 'keterlaluan', 'ketika', 'khususnya', 'kini', 'kinilah', 'kira', 'kira-kira', 'kiranya', 'kita', 'kitalah', 'kok', 'kurang', 'lagi', 'lagian', 'lah', 'lain', 'lainnya', 'lalu', 'lama', 'lamanya', 'lanjut', 'lanjutnya', 'lebih', 'lewat', 'lima', 'luar', 'macam', 'maka', 'makanya', 'makin', 'malah', 'malahan', 'mampu', 'mampukah', 'mana', 'manakala', 'manalagi', 'masa', 'masalah', 'masalahnya', 'masih', 'masihkah', 'masing', 'masing-masing', 'mau', 'maupun', 'melainkan', 'melakukan', 'melalui', 'melihat', 'melihatnya', 'memang', 'memastikan', 'memberi', 'memberikan', 'membuat', 'memerlukan', 'memihak', 'meminta', 'memintakan', 'memisalkan', 'memperbuat', 'mempergunakan', 'memperkirakan', 'memperlihatkan', 'mempersiapkan', 'mempersoalkan', 'mempertanyakan', 'mempunyai', 'memulai', 'memungkinkan', 'menaiki', 'menambahkan', 'menandaskan', 'menanti', 'menanti-nanti', 'menantikan', 'menanya', 'menanyai', 'menanyakan', 'mendapat', 'mendapatkan', 'mendatang', 'mendatangi', 'mendatangkan', 'menegaskan', 'mengakhiri', 'mengapa', 'mengatakan', 'mengatakannya', 'mengenai', 'mengerjakan', 'mengetahui', 'menggunakan', 'menghendaki', 'mengibaratkan', 'mengibaratkannya', 'mengingat', 'mengingatkan', 'menginginkan', 'mengira', 'mengucapkan', 'mengucapkannya', 'mengungkapkan', 'menjadi', 'menjawab', 'menjelaskan', 'menuju', 'menunjuk', 'menunjuki', 'menunjukkan', 'menunjuknya', 'menurut', 'menuturkan', 'menyampaikan', 'menyangkut', 'menyatakan', 'menyebutkan', 'menyeluruh', 'menyiapkan', 'merasa', 'mereka', 'merekalah', 'merupakan', 'meski', 'meskipun', 'meyakini', 'meyakinkan', 'minta', 'mirip', 'misal', 'misalkan', 'misalnya', 'mula', 'mulai', 'mulailah', 'mulanya', 'mungkin', 'mungkinkah', 'nah', 'naik', 'namun', 'nanti', 'nantinya', 'nyaris', 'nyatanya', 'oleh', 'olehnya', 'pada', 'padahal', 'padanya', 'pak', 'paling', 'panjang', 'pantas', 'para', 'pasti', 'pastilah', 'penting', 'pentingnya', 'per', 'percuma', 'perlu', 'perlukah', 'perlunya', 'pernah', 'persoalan', 'pertama', 'pertama-tama', 'pertanyaan', 'pertanyakan', 'pihak', 'pihaknya', 'pukul', 'pula', 'pun', 'punya', 'rasa', 'rasanya', 'rata', 'rupanya', 'saat', 'saatnya', 'saja', 'sajalah', 'saling', 'sama', 'sama-sama', 'sambil', 'sampai', 'sampai-sampai', 'sampaikan', 'sana', 'sangat', 'sangatlah', 'satu', 'saya', 'sayalah', 'se', 'sebab', 'sebabnya', 'sebagai', 'sebagaimana', 'sebagainya', 'sebagian', 'sebaik', 'sebaik-baiknya', 'sebaiknya', 'sebaliknya', 'sebanyak', 'sebegini', 'sebegitu', 'sebelum', 'sebelumnya', 'sebenarnya', 'seberapa', 'sebesar', 'sebetulnya', 'sebisanya', 'sebuah', 'sebut', 'sebutlah', 'sebutnya', 'secara', 'secukupnya', 'sedang', 'sedangkan', 'sedemikian', 'sedikit', 'sedikitnya', 'seenaknya', 'segala', 'segalanya', 'segera', 'seharusnya', 'sehingga', 'seingat', 'sejak', 'sejauh', 'sejenak', 'sejumlah', 'sekadar', 'sekadarnya', 'sekali', 'sekali-kali', 'sekalian', 'sekaligus', 'sekalipun', 'sekarang', 'sekarang', 'sekecil', 'seketika', 'sekiranya', 'sekitar', 'sekitarnya', 'sekurang-kurangnya', 'sekurangnya', 'sela', 'selain', 'selaku', 'selalu', 'selama', 'selama-lamanya', 'selamanya', 'selanjutnya', 'seluruh', 'seluruhnya', 'semacam', 'semakin', 'semampu', 'semampunya', 'semasa', 'semasih', 'semata', 'semata-mata', 'semaunya', 'sementara', 'semisal', 'semisalnya', 'sempat', 'semua', 'semuanya', 'semula', 'sendiri', 'sendirian', 'sendirinya', 'seolah', 'seolah-olah', 'seorang', 'sepanjang', 'sepantasnya', 'sepantasnyalah', 'seperlunya', 'seperti', 'sepertinya', 'sepihak', 'sering', 'seringnya', 'serta', 'serupa', 'sesaat', 'sesama', 'sesampai', 'sesegera', 'sesekali', 'seseorang', 'sesuatu', 'sesuatunya', 'sesudah', 'sesudahnya', 'setelah', 'setempat', 'setengah', 'seterusnya', 'setiap', 'setiba', 'setibanya', 'setidak-tidaknya', 'setidaknya', 'setinggi', 'seusai', 'sewaktu', 'siap', 'siapa', 'siapakah', 'siapapun', 'sini', 'sinilah', 'soal', 'soalnya', 'suatu', 'sudah', 'sudahkah', 'sudahlah', 'supaya', 'tadi', 'tadinya', 'tahu', 'tahun', 'tak', 'tambah', 'tambahnya', 'tampak', 'tampaknya', 'tandas', 'tandasnya', 'tanpa', 'tanya', 'tanyakan', 'tanyanya', 'tapi', 'tegas', 'tegasnya', 'telah', 'tempat', 'tengah', 'tentang', 'tentu', 'tentulah', 'tentunya', 'tepat', 'terakhir', 'terasa', 'terbanyak', 'terdahulu', 'terdapat', 'terdiri', 'terhadap', 'terhadapnya', 'teringat', 'teringat-ingat', 'terjadi', 'terjadilah', 'terjadinya', 'terkira', 'terlalu', 'terlebih', 'terlihat', 'termasuk', 'ternyata', 'tersampaikan', 'tersebut', 'tersebutlah', 'tertentu', 'tertuju', 'terus', 'terutama', 'tetap', 'tetapi', 'tiap', 'tiba', 'tiba-tiba', 'tidak', 'tidakkah', 'tidaklah', 'tiga', 'tinggi', 'toh', 'tunjuk', 'turut', 'tutur', 'tuturnya', 'ucap', 'ucapnya', 'ujar', 'ujarnya', 'umum', 'umumnya', 'ungkap', 'ungkapnya', 'untuk', 'usah', 'usai', 'waduh', 'wah', 'wahai', 'waktu', 'waktunya', 'walau', 'walaupun', 'wong', 'yaitu', 'yakin', 'yakni', 'yang']\n"
          ]
        }
      ]
    },
    {
      "cell_type": "code",
      "metadata": {
        "colab": {
          "base_uri": "https://localhost:8080/"
        },
        "id": "6_LT1Xt1oQqz",
        "outputId": "b964d3d3-708c-49da-acad-1ea18d4480f5"
      },
      "source": [
        "len(data)"
      ],
      "execution_count": 23,
      "outputs": [
        {
          "output_type": "execute_result",
          "data": {
            "text/plain": [
              "884"
            ]
          },
          "metadata": {},
          "execution_count": 23
        }
      ]
    },
    {
      "cell_type": "code",
      "metadata": {
        "id": "y3CDSSCuZKIb"
      },
      "source": [
        "sentence_no_stop = []\n",
        "for i in range(len(split_sentence)):\n",
        "  no_stopword = stopword.remove(split_sentence[i])\n",
        "  sentence_no_stop.append(no_stopword)"
      ],
      "execution_count": 24,
      "outputs": []
    },
    {
      "cell_type": "code",
      "metadata": {
        "colab": {
          "base_uri": "https://localhost:8080/"
        },
        "id": "p14-RGgBaRgB",
        "outputId": "e31a920a-6a01-4981-dbef-d7a30268720a"
      },
      "source": [
        "sentence_no_stop"
      ],
      "execution_count": 25,
      "outputs": [
        {
          "output_type": "execute_result",
          "data": {
            "text/plain": [
              "['pandemi coronavirus disease covid19 menyerang seluruh penjuru dunia termasuk indonesia',\n",
              " 'data dirilis worldometersinfo tanggal 16 juli 2021 indonesia menempati urutan ke14 daftar negara jumlah kasus positif covid19 terbanyak',\n",
              " 'bulan juni juli kasus perharinya naik mencapai 10000 lebih hingga 56000 kasus covid19 ini mengindikasikan penularan covid19 indonesia semakin masif',\n",
              " 'padahal dampak ditimbulkan pandemi sangat besar mempengaruhi berbagai aspek kehidupan salah satunya aspek ekonomi',\n",
              " 'aspek ekonomi terdampak paling signifikan di sektor industri penyumbang angka pengangguran tertinggiindonesia mengalami kontraksi pertumbuhan ekonomi kuartal i tahun 2021',\n",
              " 'data badan pusat statistika bps dilansir bpsgoid pertumbuhan ekonomi indonesia triwulan i2021 triwulan i2020 minus 074 persen yony',\n",
              " 'triwulan sebelumnya mengalami kontraksi sebesar minus 096 persen yony',\n",
              " 'rendahnya pertumbuhan ekonomi disebabkan pandemi covid19 tidak terkendali',\n",
              " 'ini berdampak sektor industri sisi eksternalpermasalahan industri mulai terkendali diakibatkan efek eksternal kebijakan diambil selama masa pandemi covid19',\n",
              " 'siregar 2020 industri negeri mengalami tujuh permasalahan lumayan berat',\n",
              " 'tujuh permasalahan tersebut lain kurangnya raw material didapat industri gas kondensat biji besi naphta',\n",
              " 'ini sangat mempengaruhi produksi ada dalam negeri memaksa mengimpor raw material harga seharusnya murah kalau didapat dalam negeri menjadi lebih mahal',\n",
              " 'semakin mahal raw material semakin mahal produk dihasilkan membuat peluang tersendiri produk impor',\n",
              " 'produk impor bahan baku murah menjualnya harga jauh lebih murah produk negeri membuat konsumen lebih banyak memilih produk luar negeri',\n",
              " 'permasalahan kedua banyaknya produk impor ada indonesia menjadi tekanan tersendiri industri ada dalam negeriketiga infrastruktur kurang memadai negara halnya jalan pelabuhan kawasan industri melakukan pendistribusian produk dari industri tersebut',\n",
              " 'pendistribusian produk tidak lancar dialami industri membawa dampak negara terjadi inflasi',\n",
              " 'badan pusat statistika bps ekonomibisniscom selama pandemi covid19 mengalami penurunan daya beli barang masyarakat daerah tertentu',\n",
              " 'bulan april 2020 bps mencatat inflasi terjadi sebesar 008 persen mtm dipengaruhi penurunan daya beli masyarakat',\n",
              " 'itu tahun tahun bps mencatat inflasi sebesar 276 persen yoy',\n",
              " 'rendahnya daya beli masyarakat menjadi tekanan tersendiri industri mempertahankan usahanya keempat kekurangan utility listrik gas air pengelolaan limbah industri',\n",
              " 'kelima pengelolaan limbah industri terlalu ketat terlalu spesifik menyulitkan industri',\n",
              " 'keenam industri kecil menengah ikm mengalami kesulitan akses pembiayaan ketersediaan bahan baku bahan pengganti maupun hal pemasaran',\n",
              " 'permasalahan terakhir tenaga kerja kurang terampil sangat berpengaruh kemajuan industri menghadapi permasalahan eksternalmenurut rochanah 2020 mahasiswa merupakan suatu individu memiliki tingkatan tertinggi dunia pendidikan',\n",
              " 'peran dalam meningkatkan memajukan tatanan masyarakat hal teristimewa setiap individu mahasiswa',\n",
              " 'kehidupan mahasiswa memegang tiga peranannya masyarakat agent of change social control iron stock',\n",
              " 'peran mahasiswa agent of change memiliki arti mahasiswa action bukan berpangku tangan manakala melihat keadaan meresahkan suatu masyarakat',\n",
              " 'itu mahasiswa berperan social control iron stock artinya pengontrol aturan kebijakan dikeluarkan pemerintah mahasiswa diharapkan menjadi generasi penerus bangsa tangguh memiliki moral baik',\n",
              " 'sikap tangguh dimiliki mahasiswa ditunjukkan setiap keadaan memiliki semangat juang tinggi pantang menyerahmahasiswa dituntut berpikir depan masa depan negara lebih baik',\n",
              " 'tuntutan tersebut terlampir visi misi maupun pilar dalampembangunan indonesia tahun 2045',\n",
              " 'disebutkan peningkatan sumbangan ilmu pengetahuan teknologi pembangunan sebagian besar diperuntukkan mahasiswa bappenas',\n",
              " '2020',\n",
              " 'peningkatan tersebut dibenarkan pernyataan pilar pembangunan menyebutkan adanya peningkatan pengembangan rd tahun 2045 sebesar 15  2 kolaborasi triple helix',\n",
              " 'kolaborasi triple helix merupakan bentuk kerjasama melibatkan tiga bagian perguruan tinggi swasta pemerintah kolaborasi ditujukan proses hilirisasi komersialisasi setiap penelitian akan diangkat dijalankan mahasiswa',\n",
              " 'ini membuat mahasiswa berlomba  lomba membuat menggagas ide  ide maupun penemuan  penemuan baru menyelesaikan masalah ada masyarakat khususnya membantu pembangunan indonesia lebih baik',\n",
              " 'meskipun segala ide maupun gagasan dibuat mahasiswa menjadi suatu tumpukan ide',\n",
              " 'banyak sekali ide disajikan mahasiswa semua sebatas ide',\n",
              " 'jarang sekali ide diajukan terealisasi bentuk seharusnya diberikan ide tersebut',\n",
              " 'itu ide diajukan banyak berpacu kebijakan pemerintah untuk ide terkait pemecahan masalah industri tertentu jarang ditemui hampir ada',\n",
              " 'kenyataannya ini industri keadaan membutuhkan ide mahasiswa menyelesaikan permasalahan',\n",
              " 'sedikit mahasiswa berpikir industri merupakan komponen penting suatu negara',\n",
              " 'negara memiliki suatu industri usaha mengelola sumber dayanya dalam memenuhi kebutuhan negara melakukan pertumbuhan ekonomi dirasa tidak mungkin dilakukanpada tahun 2020 dengan tahun 2035 indonesia diprediksi mengalami bonus demografi signifikan',\n",
              " 'bkkbn 2020 bonus demografi bisa menjadi keuntungan bencana bangsa indonesia',\n",
              " 'generasi milenial aset bangsa mampu membawa bangsa indonesia arah pertumbuhan lebih baik',\n",
              " 'generasi milenial menjadi penduduk dominan era bonus demografi cara pandang cara mendidik generasinya terbilang maju unggul berkualitas',\n",
              " 'generasi inilah akan menentukan arah roda pembangunan indonesia',\n",
              " 'fenomena dapatmenjadi peluang indonesia meningkatkan kualitas produktivitas sumber daya manusia usia produktif berlimpah menghadapi pasar bebas tenaga kerja',\n",
              " 'pemenuhan kualitas produktivitas generasi bisa dicapai indonesia siap menghadapi adanya era bonus demografi inimahasiswa generasi milenial sekaligus penyumbang ide terbesar ilmu pengetahuan teknologi tidak terpaku kebijakan pemerintah',\n",
              " 'padahal kenyataan banyak permasalahan timbul masyarakat harus diselesaikan mahasiswa',\n",
              " 'itu tridharma perguruan tinggi terdiri pendidikan pengajaran penelitian pengembangan pengabdian masyarakat mengharuskan mahasiswa maupun instansi berpikir kritis menyelesaikan menghasilkan penemuan maupun ide masyarakat khususnya bidang industri sangat berpengaruh dalam pertumbuhan ekonomi ini',\n",
              " 'disini peneliti memberikan solusi mahasiswa instansi berperan aktif semua disebutkan diatas dapat merealisasikan idenya keadaan yang sesuai provider rd',\n",
              " 'provider rd merupakan sebuah platform akan menjembatani si penerima masalah industri si pemberi solusi mahasiswa instansi mewujudkan indonesia lebih baik',\n",
              " 'provider rd memberikan seseorang lebih produktif berkualitas sebuah penelitian pengembangan ide',\n",
              " 'itu platform membuat indonesia lebih siap menghadapi era demografi menambah kualitas produktivitas generasi milenial menyelesaikan permasalahan merealisasikannya terbuang siasia']"
            ]
          },
          "metadata": {},
          "execution_count": 25
        }
      ]
    },
    {
      "cell_type": "markdown",
      "metadata": {
        "id": "C_pi51SUbeUZ"
      },
      "source": [
        "### Term Frequency\n",
        "menghitung frequency setiap kata yang muncul"
      ]
    },
    {
      "cell_type": "code",
      "metadata": {
        "colab": {
          "base_uri": "https://localhost:8080/"
        },
        "id": "3T2SNjkgaS2q",
        "outputId": "b05ddbc4-58a7-4512-a99c-a676246a9c3e"
      },
      "source": [
        "dic = {}\n",
        "for sentence in sentence_no_stop:\n",
        "  for word in sentence.split():\n",
        "    if word in dic:\n",
        "      dic[word] = dic[word] + 1\n",
        "    else:\n",
        "      dic[word]=1\n",
        "dic_items = dic.items()\n",
        "sorted_dic = sorted(dic_items, key=lambda x: x[1], reverse=True)\n",
        "for word,freq in sorted_dic:\n",
        "  print(word,freq)"
      ],
      "execution_count": 26,
      "outputs": [
        {
          "output_type": "stream",
          "name": "stdout",
          "text": [
            "industri 21\n",
            "mahasiswa 19\n",
            "indonesia 15\n",
            "ide 14\n",
            "lebih 10\n",
            "masyarakat 10\n",
            "permasalahan 8\n",
            "produk 8\n",
            "covid19 7\n",
            "negara 7\n",
            "ekonomi 7\n",
            "tahun 7\n",
            "menjadi 7\n",
            "generasi 7\n",
            "ini 6\n",
            "mengalami 6\n",
            "pertumbuhan 6\n",
            "2020 6\n",
            "dalam 6\n",
            "maupun 6\n",
            "pandemi 5\n",
            "negeri 5\n",
            "tersebut 5\n",
            "ada 5\n",
            "membuat 5\n",
            "itu 5\n",
            "suatu 5\n",
            "memiliki 5\n",
            "baik 5\n",
            "demografi 5\n",
            "sangat 4\n",
            "bps 4\n",
            "persen 4\n",
            "sebesar 4\n",
            "tidak 4\n",
            "kebijakan 4\n",
            "banyak 4\n",
            "daya 4\n",
            "menghadapi 4\n",
            "merupakan 4\n",
            "keadaan 4\n",
            "pemerintah 4\n",
            "bangsa 4\n",
            "pembangunan 4\n",
            "rd 4\n",
            "menyelesaikan 4\n",
            "bonus 4\n",
            "milenial 4\n",
            "kasus 3\n",
            "semakin 3\n",
            "aspek 3\n",
            "triwulan 3\n",
            "raw 3\n",
            "material 3\n",
            "murah 3\n",
            "mahal 3\n",
            "tersendiri 3\n",
            "impor 3\n",
            "bahan 3\n",
            "inflasi 3\n",
            "beli 3\n",
            "setiap 3\n",
            "tinggi 3\n",
            "berpikir 3\n",
            "peningkatan 3\n",
            "pengembangan 3\n",
            "kolaborasi 3\n",
            "penelitian 3\n",
            "akan 3\n",
            "penemuan 3\n",
            "masalah 3\n",
            "era 3\n",
            "kualitas 3\n",
            "produktivitas 3\n",
            "instansi 3\n",
            "provider 3\n",
            "dunia 2\n",
            "data 2\n",
            "juli 2\n",
            "2021 2\n",
            "bulan 2\n",
            "padahal 2\n",
            "dampak 2\n",
            "besar 2\n",
            "mempengaruhi 2\n",
            "kehidupan 2\n",
            "signifikan 2\n",
            "sektor 2\n",
            "penyumbang 2\n",
            "kontraksi 2\n",
            "badan 2\n",
            "pusat 2\n",
            "statistika 2\n",
            "minus 2\n",
            "yony 2\n",
            "rendahnya 2\n",
            "terkendali 2\n",
            "selama 2\n",
            "masa 2\n",
            "tujuh 2\n",
            "didapat 2\n",
            "gas 2\n",
            "harga 2\n",
            "seharusnya 2\n",
            "peluang 2\n",
            "baku 2\n",
            "tekanan 2\n",
            "kurang 2\n",
            "melakukan 2\n",
            "pendistribusian 2\n",
            "membawa 2\n",
            "terjadi 2\n",
            "penurunan 2\n",
            "tertentu 2\n",
            "mencatat 2\n",
            "pengelolaan 2\n",
            "limbah 2\n",
            "terlalu 2\n",
            "hal 2\n",
            "tenaga 2\n",
            "kerja 2\n",
            "berpengaruh 2\n",
            "individu 2\n",
            "pendidikan 2\n",
            "peran 2\n",
            "meningkatkan 2\n",
            "tiga 2\n",
            "agent 2\n",
            "of 2\n",
            "change 2\n",
            "social 2\n",
            "control 2\n",
            "iron 2\n",
            "stock 2\n",
            "berperan 2\n",
            "tangguh 2\n",
            "depan 2\n",
            "pilar 2\n",
            "2045 2\n",
            "disebutkan 2\n",
            "ilmu 2\n",
            "pengetahuan 2\n",
            "teknologi 2\n",
            "adanya 2\n",
            "triple 2\n",
            "helix 2\n",
            "bentuk 2\n",
            "perguruan 2\n",
            "khususnya 2\n",
            "sekali 2\n",
            "semua 2\n",
            "jarang 2\n",
            "diajukan 2\n",
            "sumber 2\n",
            "bisa 2\n",
            "arah 2\n",
            "cara 2\n",
            "berkualitas 2\n",
            "produktif 2\n",
            "siap 2\n",
            "memberikan 2\n",
            "solusi 2\n",
            "sebuah 2\n",
            "platform 2\n",
            "si 2\n",
            "coronavirus 1\n",
            "disease 1\n",
            "menyerang 1\n",
            "seluruh 1\n",
            "penjuru 1\n",
            "termasuk 1\n",
            "dirilis 1\n",
            "worldometersinfo 1\n",
            "tanggal 1\n",
            "16 1\n",
            "menempati 1\n",
            "urutan 1\n",
            "ke14 1\n",
            "daftar 1\n",
            "jumlah 1\n",
            "positif 1\n",
            "terbanyak 1\n",
            "juni 1\n",
            "perharinya 1\n",
            "naik 1\n",
            "mencapai 1\n",
            "10000 1\n",
            "hingga 1\n",
            "56000 1\n",
            "mengindikasikan 1\n",
            "penularan 1\n",
            "masif 1\n",
            "ditimbulkan 1\n",
            "berbagai 1\n",
            "salah 1\n",
            "satunya 1\n",
            "terdampak 1\n",
            "paling 1\n",
            "di 1\n",
            "angka 1\n",
            "pengangguran 1\n",
            "tertinggiindonesia 1\n",
            "kuartal 1\n",
            "i 1\n",
            "dilansir 1\n",
            "bpsgoid 1\n",
            "i2021 1\n",
            "i2020 1\n",
            "074 1\n",
            "sebelumnya 1\n",
            "096 1\n",
            "disebabkan 1\n",
            "berdampak 1\n",
            "sisi 1\n",
            "eksternalpermasalahan 1\n",
            "mulai 1\n",
            "diakibatkan 1\n",
            "efek 1\n",
            "eksternal 1\n",
            "diambil 1\n",
            "siregar 1\n",
            "lumayan 1\n",
            "berat 1\n",
            "lain 1\n",
            "kurangnya 1\n",
            "kondensat 1\n",
            "biji 1\n",
            "besi 1\n",
            "naphta 1\n",
            "produksi 1\n",
            "memaksa 1\n",
            "mengimpor 1\n",
            "kalau 1\n",
            "dihasilkan 1\n",
            "menjualnya 1\n",
            "jauh 1\n",
            "konsumen 1\n",
            "memilih 1\n",
            "luar 1\n",
            "kedua 1\n",
            "banyaknya 1\n",
            "negeriketiga 1\n",
            "infrastruktur 1\n",
            "memadai 1\n",
            "halnya 1\n",
            "jalan 1\n",
            "pelabuhan 1\n",
            "kawasan 1\n",
            "dari 1\n",
            "lancar 1\n",
            "dialami 1\n",
            "ekonomibisniscom 1\n",
            "barang 1\n",
            "daerah 1\n",
            "april 1\n",
            "008 1\n",
            "mtm 1\n",
            "dipengaruhi 1\n",
            "276 1\n",
            "yoy 1\n",
            "mempertahankan 1\n",
            "usahanya 1\n",
            "keempat 1\n",
            "kekurangan 1\n",
            "utility 1\n",
            "listrik 1\n",
            "air 1\n",
            "kelima 1\n",
            "ketat 1\n",
            "spesifik 1\n",
            "menyulitkan 1\n",
            "keenam 1\n",
            "kecil 1\n",
            "menengah 1\n",
            "ikm 1\n",
            "kesulitan 1\n",
            "akses 1\n",
            "pembiayaan 1\n",
            "ketersediaan 1\n",
            "pengganti 1\n",
            "pemasaran 1\n",
            "terakhir 1\n",
            "terampil 1\n",
            "kemajuan 1\n",
            "eksternalmenurut 1\n",
            "rochanah 1\n",
            "tingkatan 1\n",
            "tertinggi 1\n",
            "memajukan 1\n",
            "tatanan 1\n",
            "teristimewa 1\n",
            "memegang 1\n",
            "peranannya 1\n",
            "arti 1\n",
            "action 1\n",
            "bukan 1\n",
            "berpangku 1\n",
            "tangan 1\n",
            "manakala 1\n",
            "melihat 1\n",
            "meresahkan 1\n",
            "artinya 1\n",
            "pengontrol 1\n",
            "aturan 1\n",
            "dikeluarkan 1\n",
            "diharapkan 1\n",
            "penerus 1\n",
            "moral 1\n",
            "sikap 1\n",
            "dimiliki 1\n",
            "ditunjukkan 1\n",
            "semangat 1\n",
            "juang 1\n",
            "pantang 1\n",
            "menyerahmahasiswa 1\n",
            "dituntut 1\n",
            "tuntutan 1\n",
            "terlampir 1\n",
            "visi 1\n",
            "misi 1\n",
            "dalampembangunan 1\n",
            "sumbangan 1\n",
            "sebagian 1\n",
            "diperuntukkan 1\n",
            "bappenas 1\n",
            "dibenarkan 1\n",
            "pernyataan 1\n",
            "menyebutkan 1\n",
            "15 1\n",
            "2 1\n",
            "kerjasama 1\n",
            "melibatkan 1\n",
            "bagian 1\n",
            "swasta 1\n",
            "ditujukan 1\n",
            "proses 1\n",
            "hilirisasi 1\n",
            "komersialisasi 1\n",
            "diangkat 1\n",
            "dijalankan 1\n",
            "berlomba 1\n",
            "lomba 1\n",
            "menggagas 1\n",
            "baru 1\n",
            "membantu 1\n",
            "meskipun 1\n",
            "segala 1\n",
            "gagasan 1\n",
            "dibuat 1\n",
            "tumpukan 1\n",
            "disajikan 1\n",
            "sebatas 1\n",
            "terealisasi 1\n",
            "diberikan 1\n",
            "berpacu 1\n",
            "untuk 1\n",
            "terkait 1\n",
            "pemecahan 1\n",
            "ditemui 1\n",
            "hampir 1\n",
            "kenyataannya 1\n",
            "membutuhkan 1\n",
            "sedikit 1\n",
            "komponen 1\n",
            "penting 1\n",
            "usaha 1\n",
            "mengelola 1\n",
            "dayanya 1\n",
            "memenuhi 1\n",
            "kebutuhan 1\n",
            "dirasa 1\n",
            "mungkin 1\n",
            "dilakukanpada 1\n",
            "dengan 1\n",
            "2035 1\n",
            "diprediksi 1\n",
            "bkkbn 1\n",
            "keuntungan 1\n",
            "bencana 1\n",
            "aset 1\n",
            "mampu 1\n",
            "penduduk 1\n",
            "dominan 1\n",
            "pandang 1\n",
            "mendidik 1\n",
            "generasinya 1\n",
            "terbilang 1\n",
            "maju 1\n",
            "unggul 1\n",
            "inilah 1\n",
            "menentukan 1\n",
            "roda 1\n",
            "fenomena 1\n",
            "dapatmenjadi 1\n",
            "manusia 1\n",
            "usia 1\n",
            "berlimpah 1\n",
            "pasar 1\n",
            "bebas 1\n",
            "pemenuhan 1\n",
            "dicapai 1\n",
            "inimahasiswa 1\n",
            "sekaligus 1\n",
            "terbesar 1\n",
            "terpaku 1\n",
            "kenyataan 1\n",
            "timbul 1\n",
            "harus 1\n",
            "diselesaikan 1\n",
            "tridharma 1\n",
            "terdiri 1\n",
            "pengajaran 1\n",
            "pengabdian 1\n",
            "mengharuskan 1\n",
            "kritis 1\n",
            "menghasilkan 1\n",
            "bidang 1\n",
            "disini 1\n",
            "peneliti 1\n",
            "aktif 1\n",
            "diatas 1\n",
            "dapat 1\n",
            "merealisasikan 1\n",
            "idenya 1\n",
            "yang 1\n",
            "sesuai 1\n",
            "menjembatani 1\n",
            "penerima 1\n",
            "pemberi 1\n",
            "mewujudkan 1\n",
            "seseorang 1\n",
            "menambah 1\n",
            "merealisasikannya 1\n",
            "terbuang 1\n",
            "siasia 1\n"
          ]
        }
      ]
    },
    {
      "cell_type": "markdown",
      "metadata": {
        "id": "Su5MMobcq9Ub"
      },
      "source": [
        "### Membuka File PDF\n",
        "konversi file pdf ke text"
      ]
    },
    {
      "cell_type": "code",
      "metadata": {
        "id": "u268KTrvdtAC",
        "colab": {
          "base_uri": "https://localhost:8080/"
        },
        "outputId": "b1d2e171-924f-40a2-d8f9-fb4bb394a9c9"
      },
      "source": [
        "pip install PyPDF2"
      ],
      "execution_count": 27,
      "outputs": [
        {
          "output_type": "stream",
          "name": "stdout",
          "text": [
            "Collecting PyPDF2\n",
            "  Downloading PyPDF2-1.26.0.tar.gz (77 kB)\n",
            "\u001b[?25l\r\u001b[K     |████▎                           | 10 kB 15.8 MB/s eta 0:00:01\r\u001b[K     |████████▌                       | 20 kB 18.9 MB/s eta 0:00:01\r\u001b[K     |████████████▊                   | 30 kB 22.8 MB/s eta 0:00:01\r\u001b[K     |█████████████████               | 40 kB 26.0 MB/s eta 0:00:01\r\u001b[K     |█████████████████████▏          | 51 kB 27.9 MB/s eta 0:00:01\r\u001b[K     |█████████████████████████▍      | 61 kB 30.3 MB/s eta 0:00:01\r\u001b[K     |█████████████████████████████▋  | 71 kB 31.7 MB/s eta 0:00:01\r\u001b[K     |████████████████████████████████| 77 kB 5.5 MB/s \n",
            "\u001b[?25hBuilding wheels for collected packages: PyPDF2\n",
            "  Building wheel for PyPDF2 (setup.py) ... \u001b[?25l\u001b[?25hdone\n",
            "  Created wheel for PyPDF2: filename=PyPDF2-1.26.0-py3-none-any.whl size=61101 sha256=2859fd8c9a25ba236c99a54272f69f18e404e3647d0ba974a527a5ae8d7135ca\n",
            "  Stored in directory: /root/.cache/pip/wheels/80/1a/24/648467ade3a77ed20f35cfd2badd32134e96dd25ca811e64b3\n",
            "Successfully built PyPDF2\n",
            "Installing collected packages: PyPDF2\n",
            "Successfully installed PyPDF2-1.26.0\n"
          ]
        }
      ]
    },
    {
      "cell_type": "code",
      "metadata": {
        "id": "HX0LJcIDrHGK"
      },
      "source": [
        "import PyPDF2"
      ],
      "execution_count": 30,
      "outputs": []
    },
    {
      "cell_type": "code",
      "metadata": {
        "id": "N7LHgsYdrTIo",
        "outputId": "b1fda47a-cdc0-4353-8f81-468d39720496",
        "colab": {
          "base_uri": "https://localhost:8080/"
        }
      },
      "source": [
        "pdf_path = 'MKBigData/Teks/Abdul Rohman_Universitas Airlangga_Provider R_D.pdf'\n",
        "pdf_file = open(pdf_path,'rb')\n",
        "\n",
        "pdfreader=PyPDF2.PdfFileReader(pdf_file)\n",
        " \n",
        "#This will store the number of pages of this pdf file\n",
        "x=pdfreader.numPages\n",
        "print(x)\n",
        " \n",
        "#create a variable that will select the selected number of pages\n",
        "pageobj=pdfreader.getPage(2)\n",
        " \n",
        "#(x+1) because python indentation starts with 0.\n",
        "#create text variable which will store all text datafrom pdf file\n",
        "text=pageobj.extractText()"
      ],
      "execution_count": 36,
      "outputs": [
        {
          "output_type": "stream",
          "name": "stdout",
          "text": [
            "16\n"
          ]
        }
      ]
    },
    {
      "cell_type": "code",
      "metadata": {
        "id": "0G7ZQDG1zkGV",
        "outputId": "bc10425d-7b21-42bd-ce7e-01583dae0e00",
        "colab": {
          "base_uri": "https://localhost:8080/",
          "height": 140
        }
      },
      "source": [
        "text"
      ],
      "execution_count": 37,
      "outputs": [
        {
          "output_type": "execute_result",
          "data": {
            "application/vnd.google.colaboratory.intrinsic+json": {
              "type": "string"
            },
            "text/plain": [
              "' \\nKetiga, infrastruktur yang kurang memadai oleh negara (seperti halnya \\njala\\nn, pelabuhan, dan kawasan industri) untuk melakukan pendistribusian produk \\ndari industri tersebut. Pendistribusian produk yang tidak lancar yang dialami \\nindustri membawa dampak bagi negara yaitu terjadi inflasi. Menurut Badan Pusat \\nStatistika (BPS) dalam e\\nkonomi.bisnis.com bahwa selama pandemi covid\\n-\\n19 \\nmengalami penurunan daya beli barang oleh masyarakat di daerah tertentu. Pada \\nbulan April 2020 BPS mencatat inflasi yang terjadi sebesar 0,08 persen (mtm) yang \\ndipengaruhi oleh penurunan daya beli masyarakat.\\n \\nSetelah itu, Setiap tahun ke \\ntahun, BPS mencatat inflasi sebesar 2,76 persen (y\\n-\\no\\n-\\ny). Rendahnya daya beli \\nmasyarakat dapat menjadi tekanan tersendiri untuk industri dalam mempertahankan \\nusahanya  Keempat, kekurangan \\nutility\\n \\n(listrik, gas, air dan pengelol\\naan limbah \\nindustri). Kelima, pengelolaan limbah industri yang terlalu ketat dan terlalu spesifik \\nmenyulitkan industri. Keenam, Industri Kecil menengah (IKM) mengalami \\nkesulitan dalam akses pembiayaan, ketersediaan bahan baku atau bahan pengganti, \\nmaupun d\\nalam hal pemasaran. Permasalahan terakhir yaitu Tenaga kerja yang \\nkurang terampil sangat berpengaruh akan kemajuan dari industri dalam menghadapi \\npermasalahan dari eksternal. \\n \\nMenurut Rochanah (2020) mahasiswa merupakan suatu individu yang \\nmemiliki tingkat\\nan tertinggi dalam dunia pendidikan. Peran di dalam meningkatkan \\natau memajukan tatanan masyarakat adalah hal teristimewa bagi setiap individu \\nmahasiswa. Dalam kehidupan mahasiswa harus memegang tiga peranannya dalam \\nmasyarakat, yaitu \\nAgent of Change, Soci\\nal Control, \\ndan \\nIron Stock.. \\nPeran \\nmahasiswa sebagai \\nagent of change\\n \\nmemiliki arti dimana mahasiswa harus action \\ndan bukan hanya berpangku tangan manakala melihat keadaan yang meresahkan \\ndalam suatu masyarakat. Selain itu, mahasiswa juga berperan sebagai \\ns\\nocial control \\ndan \\niron stock\\n \\nyang artinya, pengontrol aturan dan kebijakan yang dikeluarkan \\npemerintah, serta mahasiswa diharapkan menjadi generasi penerus bangsa yang \\ntangguh dan memiliki moral yang baik. Sikap Tangguh yang dimiliki mahasiswa \\nharus ditunj\\nukkan dalam setiap keadaan, memiliki semangat juang yang tinggi dan \\npantang menyerah. \\n \\nMahasiswa dituntut untuk berpikir ke depan untuk masa depan negara yang \\nlebih baik. Tuntutan tersebut juga terlampir dalam visi misi maupun pilar dalam \\n'"
            ]
          },
          "metadata": {},
          "execution_count": 37
        }
      ]
    },
    {
      "cell_type": "code",
      "metadata": {
        "id": "08OxNqAtz6ES"
      },
      "source": [
        ""
      ],
      "execution_count": null,
      "outputs": []
    }
  ]
}