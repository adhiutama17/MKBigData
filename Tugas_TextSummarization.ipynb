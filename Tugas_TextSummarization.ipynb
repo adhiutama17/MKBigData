{
  "nbformat": 4,
  "nbformat_minor": 0,
  "metadata": {
    "colab": {
      "name": "Tugas-TextSummarization.ipynb",
      "provenance": [],
      "authorship_tag": "ABX9TyMDHVpDRs3L5vRpOmsn2spq",
      "include_colab_link": true
    },
    "kernelspec": {
      "name": "python3",
      "display_name": "Python 3"
    },
    "language_info": {
      "name": "python"
    }
  },
  "cells": [
    {
      "cell_type": "markdown",
      "metadata": {
        "id": "view-in-github",
        "colab_type": "text"
      },
      "source": [
        "<a href=\"https://colab.research.google.com/github/adhiutama17/MKBigData/blob/main/Tugas_TextSummarization.ipynb\" target=\"_parent\"><img src=\"https://colab.research.google.com/assets/colab-badge.svg\" alt=\"Open In Colab\"/></a>"
      ]
    },
    {
      "cell_type": "markdown",
      "metadata": {
        "id": "imCdmYCt4FgJ"
      },
      "source": [
        "# TUGAS Big Data\n",
        "Text Summarization untuk artikel Ilmiah"
      ]
    },
    {
      "cell_type": "markdown",
      "metadata": {
        "id": "5o1En3LFLf8-"
      },
      "source": [
        "## Pre-Process\n",
        "Pre-Process yang dilakukan:\n",
        "* lowercase\n",
        "* punctuation removal\n",
        "* stop-word removal\n",
        "* term-frequency \n",
        "\n"
      ]
    },
    {
      "cell_type": "markdown",
      "metadata": {
        "id": "yeMXtF4nL9_4"
      },
      "source": [
        "### Integrasi Google Colab dengan Github\n",
        "Github merupakan repository online untuk bisa menyimpan dan mengolah keperluan programmer. Github atas nama 'adhiutama17' dengan repository 'MKBigData'. File artikel ilmiah akan diberikan pada repository github tersebut"
      ]
    },
    {
      "cell_type": "code",
      "metadata": {
        "colab": {
          "base_uri": "https://localhost:8080/"
        },
        "id": "qd9Gvjgp47a2",
        "outputId": "70805bb6-a4e3-4662-a370-e916c9025d8a"
      },
      "source": [
        "!git clone https://github.com/adhiutama17/MKBigData"
      ],
      "execution_count": 1,
      "outputs": [
        {
          "output_type": "stream",
          "name": "stdout",
          "text": [
            "Cloning into 'MKBigData'...\n",
            "remote: Enumerating objects: 40, done.\u001b[K\n",
            "remote: Counting objects: 100% (40/40), done.\u001b[K\n",
            "remote: Compressing objects: 100% (32/32), done.\u001b[K\n",
            "remote: Total 40 (delta 12), reused 29 (delta 6), pack-reused 0\u001b[K\n",
            "Unpacking objects: 100% (40/40), done.\n"
          ]
        }
      ]
    },
    {
      "cell_type": "code",
      "metadata": {
        "id": "E1HPbEth7myM",
        "colab": {
          "base_uri": "https://localhost:8080/"
        },
        "outputId": "731b277d-7c33-4c6a-aa7e-017a36f5223d"
      },
      "source": [
        "# Melihat isi file pada repository /MKBigData\n",
        "!ls MKBigData/Teks"
      ],
      "execution_count": 3,
      "outputs": [
        {
          "output_type": "stream",
          "name": "stdout",
          "text": [
            "'Abdul Rohman_Universitas Airlangga_Provider R_D.pdf'   Provider-RnD.txt\n",
            " artikel_berita1.txt\n"
          ]
        }
      ]
    },
    {
      "cell_type": "markdown",
      "metadata": {
        "id": "nlmtb5I1Misc"
      },
      "source": [
        ""
      ]
    },
    {
      "cell_type": "code",
      "metadata": {
        "id": "JgeERSs8MbGZ"
      },
      "source": [
        "artikel_path = 'MKBigData/Teks/Provider-RnD.txt'\n",
        "artikel_file = open(artikel_path,\"r\")"
      ],
      "execution_count": 4,
      "outputs": []
    },
    {
      "cell_type": "code",
      "metadata": {
        "id": "VrUP0txpQzIQ",
        "outputId": "612a1d4e-f2ee-49f2-c7ce-20ab8ffb17af",
        "colab": {
          "base_uri": "https://localhost:8080/"
        }
      },
      "source": [
        "artikel_file.readlines()"
      ],
      "execution_count": 6,
      "outputs": [
        {
          "output_type": "execute_result",
          "data": {
            "text/plain": [
              "['Pandemi Coronavirus Disease (COVID-19) menyerang seluruh penjuru dunia termasuk Indonesia. Menurut data yang dirilis Worldometers.info pada tanggal 16 Juli 2021, Indonesia menempati urutan ke-14 dalam daftar negara dengan jumlah kasus positif covid-19 terbanyak. Pada Bulan Juni sampai Juli, kasus perharinya naik mencapai 10.000 lebih hingga 56.000 kasus covid-19 Hal ini mengindikasikan bahwa penularan COVID-19 di Indonesia semakin masif. Padahal dampak yang ditimbulkan dari pandemi ini sangat besar dan mempengaruhi berbagai aspek kehidupan, salah satunya adalah aspek ekonomi. Aspek Ekonomi yang terdampak paling signifikan adalah di sektor industri dengan penyumbang angka pengangguran tertinggi.\\n',\n",
              " 'Indonesia mengalami kontraksi pertumbuhan ekonomi pada kuartal I tahun 2021. Menurut data Badan Pusat Statistika (BPS) yang dilansir oleh bps.go.id, pertumbuhan ekonomi Indonesia pada triwulan I-2021 terhadap triwulan I-2020 minus 0,74 persen (y-on-y). Pada triwulan sebelumnya mengalami kontraksi sebesar minus 0,96 persen (y-on-y). Rendahnya pertumbuhan ekonomi ini disebabkan oleh pandemi covid-19 yang tidak terkendali. Hal ini berdampak pada sektor industri pada sisi eksternal.\\n',\n",
              " 'Permasalahan Industri mulai tidak terkendali yang diakibatkan oleh efek eksternal seperti kebijakan yang diambil selama masa pandemi covid-19. Menurut Siregar (2020) industri dalam negeri mengalami tujuh permasalahan yang lumayan berat. Tujuh permasalahan tersebut antara lain, kurangnya raw material yang didapat oleh industri, seperti gas, kondensat, biji besi, dan naphta. Hal ini sangat mempengaruhi produksi yang ada di dalam negeri, yaitu memaksa mereka mengimpor raw material dengan harga yang seharusnya murah kalau didapat di dalam negeri menjadi lebih mahal. Semakin mahal raw material semakin mahal pula produk yang dihasilkan yang membuat peluang tersendiri dari produk impor. Produk impor dengan bahan baku murah menjualnya dengan harga yang jauh lebih murah daripada produk dalam negeri, sehingga membuat konsumen lebih banyak memilih produk luar negeri. Maka dari itu permasalahan yang kedua adalah banyaknya produk impor yang ada di Indonesia menjadi tekanan tersendiri oleh industri yang ada di dalam negeri.\\n',\n",
              " 'Ketiga, infrastruktur yang kurang memadai oleh negara (seperti halnya jalan, pelabuhan, dan kawasan industri) untuk melakukan pendistribusian produk dari industri tersebut. Pendistribusian produk yang tidak lancar yang dialami industri membawa dampak bagi negara yaitu terjadi inflasi. Menurut Badan Pusat Statistika (BPS) dalam ekonomi.bisnis.com bahwa selama pandemi covid-19 mengalami penurunan daya beli barang oleh masyarakat di daerah tertentu. Pada bulan April 2020 BPS mencatat inflasi yang terjadi sebesar 0,08 persen (mtm) yang dipengaruhi oleh penurunan daya beli masyarakat. Setelah itu, Setiap tahun ke tahun, BPS mencatat inflasi sebesar 2,76 persen (y-o-y). Rendahnya daya beli masyarakat dapat menjadi tekanan tersendiri untuk industri dalam mempertahankan usahanya Keempat, kekurangan utility (listrik, gas, air dan pengelolaan limbah industri). Kelima, pengelolaan limbah industri yang terlalu ketat dan terlalu spesifik menyulitkan industri. Keenam, Industri Kecil menengah (IKM) mengalami kesulitan dalam akses pembiayaan, ketersediaan bahan baku atau bahan pengganti, maupun dalam hal pemasaran. Permasalahan terakhir yaitu Tenaga kerja yang kurang terampil sangat berpengaruh akan kemajuan dari industri dalam menghadapi permasalahan dari eksternal.\\n',\n",
              " 'Menurut Rochanah (2020) mahasiswa merupakan suatu individu yang memiliki tingkatan tertinggi dalam dunia pendidikan. Peran di dalam meningkatkan atau memajukan tatanan masyarakat adalah hal teristimewa bagi setiap individu mahasiswa. Dalam kehidupan mahasiswa harus memegang tiga peranannya dalam masyarakat, yaitu Agent of Change, Social Control, dan Iron Stock.. Peran mahasiswa sebagai agent of change memiliki arti dimana mahasiswa harus action dan bukan hanya berpangku tangan manakala melihat keadaan yang meresahkan dalam suatu masyarakat. Selain itu, mahasiswa juga berperan sebagai social control dan iron stock yang artinya, pengontrol aturan dan kebijakan yang dikeluarkan pemerintah, serta mahasiswa diharapkan menjadi generasi penerus bangsa yang tangguh dan memiliki moral yang baik. Sikap Tangguh yang dimiliki mahasiswa harus ditunjukkan dalam setiap keadaan, memiliki semangat juang yang tinggi dan pantang menyerah.\\n',\n",
              " 'Mahasiswa dituntut untuk berpikir ke depan untuk masa depan negara yang lebih baik. Tuntutan tersebut juga terlampir dalam visi misi maupun pilar dalam\\n',\n",
              " '\\n',\n",
              " 'pembangunan Indonesia tahun 2045. Disebutkan bahwa peningkatan sumbangan ilmu pengetahuan dan teknologi dalam pembangunan sebagian besar diperuntukkan oleh mahasiswa (Bappenas. 2020). Peningkatan tersebut dibenarkan dalam pernyataan pilar pembangunan yang menyebutkan adanya peningkatan dan pengembangan (R&D) untuk tahun 2045 sebesar 1,5 - 2% dari kolaborasi triple helix. Kolaborasi triple helix merupakan bentuk kerjasama yang melibatkan tiga bagian yaitu perguruan tinggi, swasta, dan pemerintah, dimana kolaborasi ini ditujukan untuk proses hilirisasi dan komersialisasi pada setiap penelitian yang akan diangkat serta dijalankan mahasiswa. Hal ini membuat mahasiswa berlomba - lomba untuk membuat atau menggagas ide - ide maupun penemuan - penemuan baru dalam menyelesaikan masalah yang ada di masyarakat khususnya dalam membantu pembangunan Indonesia yang lebih baik. Meskipun demikian, segala ide maupun gagasan yang dibuat oleh mahasiswa hanya menjadi suatu tumpukan ide. Banyak sekali ide yang disajikan oleh mahasiswa tetapi semua hanya sebatas ide. Jarang sekali ide yang diajukan terealisasi dalam bentuk yang seharusnya diberikan dalam ide tersebut. Selain itu, ide yang diajukan banyak yang berpacu pada kebijakan pemerintah dan untuk ide terkait pemecahan masalah dalam industri tertentu masih jarang ditemui atau hampir tidak ada. Pada kenyataannya saat ini industri dalam keadaan yang membutuhkan ide dari mahasiswa untuk menyelesaikan permasalahan. Sedikit mahasiswa berpikir bahwa industri merupakan komponen penting dalam suatu negara. Negara yang tidak memiliki suatu industri atau usaha untuk mengelola sumber dayanya, maka dalam memenuhi kebutuhan negara atau melakukan pertumbuhan ekonomi dirasa tidak mungkin bisa dilakukan.\\n',\n",
              " 'Pada tahun 2020 sampai dengan tahun 2035 Indonesia diprediksi akan mengalami bonus demografi secara signifikan. Menurut BKKBN (2020) bonus demografi ini bisa menjadi keuntungan dan bencana bagi bangsa Indonesia. Generasi milenial adalah aset bangsa yang mampu membawa bangsa Indonesia ke arah pertumbuhan yang lebih baik. Generasi milenial akan menjadi penduduk dominan dalam era bonus demografi, dimana cara pandang dan cara mendidik generasinya yang terbilang maju, unggul, serta berkualitas. Generasi inilah yang akan menentukan arah dan roda pembangunan Indonesia. fenomena ini dapat\\n',\n",
              " '\\n',\n",
              " 'menjadi peluang bagi Indonesia untuk meningkatkan kualitas dan produktivitas sumber daya manusia di usia produktif yang berlimpah dalam menghadapi pasar bebas tenaga kerja. Jika pemenuhan kualitas dan produktivitas dari generasi ini bisa dicapai, maka Indonesia akan siap untuk menghadapi adanya era bonus demografi ini.\\n',\n",
              " 'Mahasiswa sebagai generasi milenial sekaligus penyumbang ide terbesar dalam ilmu pengetahuan dan teknologi, seharusnya tidak terpaku pada kebijakan pemerintah. Padahal di kenyataan banyak permasalahan yang timbul di masyarakat dan harus diselesaikan oleh mahasiswa. Selain itu, tridharma perguruan tinggi (yang terdiri dari pendidikan dan pengajaran, penelitian dan pengembangan, serta pengabdian di masyarakat) mengharuskan mahasiswa maupun instansi berpikir kritis untuk menyelesaikan atau menghasilkan penemuan maupun ide di dalam masyarakat khususnya di bidang industri yang sangat berpengaruh dalam pertumbuhan ekonomi saat ini. Disini peneliti memberikan solusi agar mahasiswa dan instansi berperan aktif dalam semua hal yang telah disebutkan diatas, sehingga dapat merealisasikan idenya di keadaan yang sesuai dalam Provider R&D. Provider R&D merupakan sebuah platform yang akan menjembatani si penerima masalah (industri) dan si pemberi solusi (mahasiswa dan instansi) untuk mewujudkan Indonesia yang lebih baik. Provider R&D memberikan seseorang lebih produktif dan berkualitas dalam sebuah penelitian dan pengembangan ide. Selain itu, platform ini membuat Indonesia lebih siap untuk menghadapi era demografi dengan menambah kualitas dan produktivitas generasi milenial untuk menyelesaikan permasalahan dan merealisasikannya tanpa terbuang sia-sia.']"
            ]
          },
          "metadata": {},
          "execution_count": 6
        }
      ]
    },
    {
      "cell_type": "code",
      "metadata": {
        "id": "lJZj9eAlQ1XR"
      },
      "source": [
        ""
      ],
      "execution_count": null,
      "outputs": []
    }
  ]
}