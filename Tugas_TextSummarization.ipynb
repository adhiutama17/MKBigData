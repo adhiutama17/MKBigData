{
  "nbformat": 4,
  "nbformat_minor": 0,
  "metadata": {
    "colab": {
      "name": "Tugas-TextSummarization.ipynb",
      "provenance": [],
      "authorship_tag": "ABX9TyN82UUupQvsVYO2h1nIxSGK",
      "include_colab_link": true
    },
    "kernelspec": {
      "name": "python3",
      "display_name": "Python 3"
    },
    "language_info": {
      "name": "python"
    }
  },
  "cells": [
    {
      "cell_type": "markdown",
      "metadata": {
        "id": "view-in-github",
        "colab_type": "text"
      },
      "source": [
        "<a href=\"https://colab.research.google.com/github/adhiutama17/MKBigData/blob/main/Tugas_TextSummarization.ipynb\" target=\"_parent\"><img src=\"https://colab.research.google.com/assets/colab-badge.svg\" alt=\"Open In Colab\"/></a>"
      ]
    },
    {
      "cell_type": "markdown",
      "metadata": {
        "id": "imCdmYCt4FgJ"
      },
      "source": [
        "# TUGAS Big Data\n",
        "Text Summarization untuk artikel Ilmiah"
      ]
    },
    {
      "cell_type": "markdown",
      "metadata": {
        "id": "5o1En3LFLf8-"
      },
      "source": [
        "## Pre-Process\n",
        "Pre-Process yang dilakukan:\n",
        "* lowercase\n",
        "* punctuation removal\n",
        "* stop-word removal\n",
        "* term-frequency \n",
        "\n"
      ]
    },
    {
      "cell_type": "markdown",
      "metadata": {
        "id": "yeMXtF4nL9_4"
      },
      "source": [
        "### Integrasi Google Colab dengan Github\n",
        "Github merupakan repository online untuk bisa menyimpan dan mengolah keperluan programmer. Github atas nama 'adhiutama17' dengan repository 'MKBigData'. File artikel ilmiah akan diberikan pada repository github tersebut"
      ]
    },
    {
      "cell_type": "code",
      "metadata": {
        "colab": {
          "base_uri": "https://localhost:8080/"
        },
        "id": "qd9Gvjgp47a2",
        "outputId": "1881733f-b1ac-4129-d7cc-3c2bd43cb5d9"
      },
      "source": [
        "!git clone https://github.com/adhiutama17/MKBigData"
      ],
      "execution_count": 2,
      "outputs": [
        {
          "output_type": "stream",
          "name": "stdout",
          "text": [
            "Cloning into 'MKBigData'...\n",
            "remote: Enumerating objects: 50, done.\u001b[K\n",
            "remote: Counting objects: 100% (50/50), done.\u001b[K\n",
            "remote: Compressing objects: 100% (42/42), done.\u001b[K\n",
            "remote: Total 50 (delta 20), reused 29 (delta 6), pack-reused 0\u001b[K\n",
            "Unpacking objects: 100% (50/50), done.\n"
          ]
        }
      ]
    },
    {
      "cell_type": "code",
      "metadata": {
        "id": "E1HPbEth7myM",
        "colab": {
          "base_uri": "https://localhost:8080/"
        },
        "outputId": "731b277d-7c33-4c6a-aa7e-017a36f5223d"
      },
      "source": [
        "# Melihat isi file pada repository /MKBigData\n",
        "!ls MKBigData/Teks"
      ],
      "execution_count": null,
      "outputs": [
        {
          "output_type": "stream",
          "name": "stdout",
          "text": [
            "'Abdul Rohman_Universitas Airlangga_Provider R_D.pdf'   Provider-RnD.txt\n",
            " artikel_berita1.txt\n"
          ]
        }
      ]
    },
    {
      "cell_type": "markdown",
      "metadata": {
        "id": "nlmtb5I1Misc"
      },
      "source": [
        ""
      ]
    },
    {
      "cell_type": "code",
      "metadata": {
        "id": "JgeERSs8MbGZ"
      },
      "source": [
        "#membuka file artikel\n",
        "artikel_path = 'MKBigData/Teks/Provider-RnD.txt'\n",
        "artikel_file = (open(artikel_path,\"r\").read()).replace(\"\\n\",\"\").lower()"
      ],
      "execution_count": 18,
      "outputs": []
    },
    {
      "cell_type": "code",
      "metadata": {
        "id": "ejkmvsZHVfbF"
      },
      "source": [
        "split_sentence = (artikel_file.split(\". \"))"
      ],
      "execution_count": 19,
      "outputs": []
    },
    {
      "cell_type": "code",
      "metadata": {
        "id": "hrz-tG2EVqPt",
        "outputId": "68f9bafc-ee14-4966-e195-f4e9a3e07666",
        "colab": {
          "base_uri": "https://localhost:8080/"
        }
      },
      "source": [
        "split_sentence"
      ],
      "execution_count": 20,
      "outputs": [
        {
          "output_type": "execute_result",
          "data": {
            "text/plain": [
              "['pandemi coronavirus disease (covid-19) menyerang seluruh penjuru dunia termasuk indonesia',\n",
              " 'menurut data yang dirilis worldometers.info pada tanggal 16 juli 2021, indonesia menempati urutan ke-14 dalam daftar negara dengan jumlah kasus positif covid-19 terbanyak',\n",
              " 'pada bulan juni sampai juli, kasus perharinya naik mencapai 10.000 lebih hingga 56.000 kasus covid-19 hal ini mengindikasikan bahwa penularan covid-19 di indonesia semakin masif',\n",
              " 'padahal dampak yang ditimbulkan dari pandemi ini sangat besar dan mempengaruhi berbagai aspek kehidupan, salah satunya adalah aspek ekonomi',\n",
              " 'aspek ekonomi yang terdampak paling signifikan adalah di sektor industri dengan penyumbang angka pengangguran tertinggi.indonesia mengalami kontraksi pertumbuhan ekonomi pada kuartal i tahun 2021',\n",
              " 'menurut data badan pusat statistika (bps) yang dilansir oleh bps.go.id, pertumbuhan ekonomi indonesia pada triwulan i-2021 terhadap triwulan i-2020 minus 0,74 persen (y-on-y)',\n",
              " 'pada triwulan sebelumnya mengalami kontraksi sebesar minus 0,96 persen (y-on-y)',\n",
              " 'rendahnya pertumbuhan ekonomi ini disebabkan oleh pandemi covid-19 yang tidak terkendali',\n",
              " 'hal ini berdampak pada sektor industri pada sisi eksternal.permasalahan industri mulai tidak terkendali yang diakibatkan oleh efek eksternal seperti kebijakan yang diambil selama masa pandemi covid-19',\n",
              " 'menurut siregar (2020) industri dalam negeri mengalami tujuh permasalahan yang lumayan berat',\n",
              " 'tujuh permasalahan tersebut antara lain, kurangnya raw material yang didapat oleh industri, seperti gas, kondensat, biji besi, dan naphta',\n",
              " 'hal ini sangat mempengaruhi produksi yang ada di dalam negeri, yaitu memaksa mereka mengimpor raw material dengan harga yang seharusnya murah kalau didapat di dalam negeri menjadi lebih mahal',\n",
              " 'semakin mahal raw material semakin mahal pula produk yang dihasilkan yang membuat peluang tersendiri dari produk impor',\n",
              " 'produk impor dengan bahan baku murah menjualnya dengan harga yang jauh lebih murah daripada produk dalam negeri, sehingga membuat konsumen lebih banyak memilih produk luar negeri',\n",
              " 'maka dari itu permasalahan yang kedua adalah banyaknya produk impor yang ada di indonesia menjadi tekanan tersendiri oleh industri yang ada di dalam negeri.ketiga, infrastruktur yang kurang memadai oleh negara (seperti halnya jalan, pelabuhan, dan kawasan industri) untuk melakukan pendistribusian produk dari industri tersebut',\n",
              " 'pendistribusian produk yang tidak lancar yang dialami industri membawa dampak bagi negara yaitu terjadi inflasi',\n",
              " 'menurut badan pusat statistika (bps) dalam ekonomi.bisnis.com bahwa selama pandemi covid-19 mengalami penurunan daya beli barang oleh masyarakat di daerah tertentu',\n",
              " 'pada bulan april 2020 bps mencatat inflasi yang terjadi sebesar 0,08 persen (mtm) yang dipengaruhi oleh penurunan daya beli masyarakat',\n",
              " 'setelah itu, setiap tahun ke tahun, bps mencatat inflasi sebesar 2,76 persen (y-o-y)',\n",
              " 'rendahnya daya beli masyarakat dapat menjadi tekanan tersendiri untuk industri dalam mempertahankan usahanya keempat, kekurangan utility (listrik, gas, air dan pengelolaan limbah industri)',\n",
              " 'kelima, pengelolaan limbah industri yang terlalu ketat dan terlalu spesifik menyulitkan industri',\n",
              " 'keenam, industri kecil menengah (ikm) mengalami kesulitan dalam akses pembiayaan, ketersediaan bahan baku atau bahan pengganti, maupun dalam hal pemasaran',\n",
              " 'permasalahan terakhir yaitu tenaga kerja yang kurang terampil sangat berpengaruh akan kemajuan dari industri dalam menghadapi permasalahan dari eksternal.menurut rochanah (2020) mahasiswa merupakan suatu individu yang memiliki tingkatan tertinggi dalam dunia pendidikan',\n",
              " 'peran di dalam meningkatkan atau memajukan tatanan masyarakat adalah hal teristimewa bagi setiap individu mahasiswa',\n",
              " 'dalam kehidupan mahasiswa harus memegang tiga peranannya dalam masyarakat, yaitu agent of change, social control, dan iron stock.',\n",
              " 'peran mahasiswa sebagai agent of change memiliki arti dimana mahasiswa harus action dan bukan hanya berpangku tangan manakala melihat keadaan yang meresahkan dalam suatu masyarakat',\n",
              " 'selain itu, mahasiswa juga berperan sebagai social control dan iron stock yang artinya, pengontrol aturan dan kebijakan yang dikeluarkan pemerintah, serta mahasiswa diharapkan menjadi generasi penerus bangsa yang tangguh dan memiliki moral yang baik',\n",
              " 'sikap tangguh yang dimiliki mahasiswa harus ditunjukkan dalam setiap keadaan, memiliki semangat juang yang tinggi dan pantang menyerah.mahasiswa dituntut untuk berpikir ke depan untuk masa depan negara yang lebih baik',\n",
              " 'tuntutan tersebut juga terlampir dalam visi misi maupun pilar dalampembangunan indonesia tahun 2045',\n",
              " 'disebutkan bahwa peningkatan sumbangan ilmu pengetahuan dan teknologi dalam pembangunan sebagian besar diperuntukkan oleh mahasiswa (bappenas',\n",
              " '2020)',\n",
              " 'peningkatan tersebut dibenarkan dalam pernyataan pilar pembangunan yang menyebutkan adanya peningkatan dan pengembangan (r&d) untuk tahun 2045 sebesar 1,5 - 2% dari kolaborasi triple helix',\n",
              " 'kolaborasi triple helix merupakan bentuk kerjasama yang melibatkan tiga bagian yaitu perguruan tinggi, swasta, dan pemerintah, dimana kolaborasi ini ditujukan untuk proses hilirisasi dan komersialisasi pada setiap penelitian yang akan diangkat serta dijalankan mahasiswa',\n",
              " 'hal ini membuat mahasiswa berlomba - lomba untuk membuat atau menggagas ide - ide maupun penemuan - penemuan baru dalam menyelesaikan masalah yang ada di masyarakat khususnya dalam membantu pembangunan indonesia yang lebih baik',\n",
              " 'meskipun demikian, segala ide maupun gagasan yang dibuat oleh mahasiswa hanya menjadi suatu tumpukan ide',\n",
              " 'banyak sekali ide yang disajikan oleh mahasiswa tetapi semua hanya sebatas ide',\n",
              " 'jarang sekali ide yang diajukan terealisasi dalam bentuk yang seharusnya diberikan dalam ide tersebut',\n",
              " 'selain itu, ide yang diajukan banyak yang berpacu pada kebijakan pemerintah dan untuk ide terkait pemecahan masalah dalam industri tertentu masih jarang ditemui atau hampir tidak ada',\n",
              " 'pada kenyataannya saat ini industri dalam keadaan yang membutuhkan ide dari mahasiswa untuk menyelesaikan permasalahan',\n",
              " 'sedikit mahasiswa berpikir bahwa industri merupakan komponen penting dalam suatu negara',\n",
              " 'negara yang tidak memiliki suatu industri atau usaha untuk mengelola sumber dayanya, maka dalam memenuhi kebutuhan negara atau melakukan pertumbuhan ekonomi dirasa tidak mungkin bisa dilakukan.pada tahun 2020 sampai dengan tahun 2035 indonesia diprediksi akan mengalami bonus demografi secara signifikan',\n",
              " 'menurut bkkbn (2020) bonus demografi ini bisa menjadi keuntungan dan bencana bagi bangsa indonesia',\n",
              " 'generasi milenial adalah aset bangsa yang mampu membawa bangsa indonesia ke arah pertumbuhan yang lebih baik',\n",
              " 'generasi milenial akan menjadi penduduk dominan dalam era bonus demografi, dimana cara pandang dan cara mendidik generasinya yang terbilang maju, unggul, serta berkualitas',\n",
              " 'generasi inilah yang akan menentukan arah dan roda pembangunan indonesia',\n",
              " 'fenomena ini dapatmenjadi peluang bagi indonesia untuk meningkatkan kualitas dan produktivitas sumber daya manusia di usia produktif yang berlimpah dalam menghadapi pasar bebas tenaga kerja',\n",
              " 'jika pemenuhan kualitas dan produktivitas dari generasi ini bisa dicapai, maka indonesia akan siap untuk menghadapi adanya era bonus demografi ini.mahasiswa sebagai generasi milenial sekaligus penyumbang ide terbesar dalam ilmu pengetahuan dan teknologi, seharusnya tidak terpaku pada kebijakan pemerintah',\n",
              " 'padahal di kenyataan banyak permasalahan yang timbul di masyarakat dan harus diselesaikan oleh mahasiswa',\n",
              " 'selain itu, tridharma perguruan tinggi (yang terdiri dari pendidikan dan pengajaran, penelitian dan pengembangan, serta pengabdian di masyarakat) mengharuskan mahasiswa maupun instansi berpikir kritis untuk menyelesaikan atau menghasilkan penemuan maupun ide di dalam masyarakat khususnya di bidang industri yang sangat berpengaruh dalam pertumbuhan ekonomi saat ini',\n",
              " 'disini peneliti memberikan solusi agar mahasiswa dan instansi berperan aktif dalam semua hal yang telah disebutkan diatas, sehingga dapat merealisasikan idenya di keadaan yang sesuai dalam provider r&d',\n",
              " 'provider r&d merupakan sebuah platform yang akan menjembatani si penerima masalah (industri) dan si pemberi solusi (mahasiswa dan instansi) untuk mewujudkan indonesia yang lebih baik',\n",
              " 'provider r&d memberikan seseorang lebih produktif dan berkualitas dalam sebuah penelitian dan pengembangan ide',\n",
              " 'selain itu, platform ini membuat indonesia lebih siap untuk menghadapi era demografi dengan menambah kualitas dan produktivitas generasi milenial untuk menyelesaikan permasalahan dan merealisasikannya tanpa terbuang sia-sia.']"
            ]
          },
          "metadata": {},
          "execution_count": 20
        }
      ]
    },
    {
      "cell_type": "code",
      "metadata": {
        "id": "zLObyvjPVtIz"
      },
      "source": [
        ""
      ],
      "execution_count": null,
      "outputs": []
    }
  ]
}