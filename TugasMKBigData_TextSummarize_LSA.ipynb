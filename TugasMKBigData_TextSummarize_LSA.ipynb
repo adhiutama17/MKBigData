{
  "nbformat": 4,
  "nbformat_minor": 0,
  "metadata": {
    "colab": {
      "name": "TugasMKBigData - TextSummarize-LSA.ipynb",
      "provenance": [],
      "authorship_tag": "ABX9TyNjwHhyVqYXWfrAEWf3TweB",
      "include_colab_link": true
    },
    "kernelspec": {
      "name": "python3",
      "display_name": "Python 3"
    },
    "language_info": {
      "name": "python"
    }
  },
  "cells": [
    {
      "cell_type": "markdown",
      "metadata": {
        "id": "view-in-github",
        "colab_type": "text"
      },
      "source": [
        "<a href=\"https://colab.research.google.com/github/adhiutama17/MKBigData/blob/main/TugasMKBigData_TextSummarize_LSA.ipynb\" target=\"_parent\"><img src=\"https://colab.research.google.com/assets/colab-badge.svg\" alt=\"Open In Colab\"/></a>"
      ]
    },
    {
      "cell_type": "markdown",
      "metadata": {
        "id": "Qajz0e1LaDAw"
      },
      "source": [
        "## Daftar Isi\n",
        "\n",
        "\n",
        "\n",
        "*   Pendahuluan\n",
        "*   Teori\n",
        "*   Metode\n",
        "*   Uji Coba\n",
        "*   Validasi\n",
        "*   Test"
      ]
    },
    {
      "cell_type": "markdown",
      "metadata": {
        "id": "1RCTcMfnaJxt"
      },
      "source": [
        "##Pendahuluan\n",
        "Era Internet menyediakan beragam informasi yang bisa diakses kapan pun dan dimana pun, misalnya berita elektronik, iklan, kursus online, hingga artikel-artikel ilmiah. Contoh terakhir menjadi salah satu sumber informasi yang wajib di dunia pendidikan khususnya pendidikan tinggi. Artikel ilmiah didefinisikan sebagai karya ilmu pengetahuan yang menyajikan fakta umum dan ditulis dengan metodologi penulisan yang baik dan benar. Konten dari artikel ilmiah dapat berupa penelitian, ulasan teori, hingga ide baru seseorang didasarkan suatu permasalahan. Menurut World Bank , dari tahun 2000 hingga 2018 tercatat lebih dari 2,5 juta artikel ilmiah yang terpublikasi melalui berbagai macam lembaga publikasi dengan pengelompokkan bidang tertentu. Pembaca artikel ilmiah perlu menemukan informasi dan gagasan penulis dari teks yang ditulis. Selain artikel ilmiah yang terpublikasi, terdapat juga artikel yang belum terpublikasi berupa paper, jurnal, atau artikel esai perlombaan mahasiswa."
      ]
    },
    {
      "cell_type": "markdown",
      "metadata": {
        "id": "f2GDU11KaUp1"
      },
      "source": [
        "##Dasar Teori"
      ]
    },
    {
      "cell_type": "markdown",
      "metadata": {
        "id": "hN5WAX6saXrL"
      },
      "source": [
        "###Text Summarization\n",
        "\n",
        "Text Summarization (Ringkasan Teks) merupakan teks yang terdiri atas satu atau dua kalimat yang menyampaikan informasi penting dari teks yang asli, biasanya jumlah kalimat tidak lebih dari setengah teks yang asli bahkan lebih sedikit\n",
        "\n",
        "*   Extractive\n",
        "\n",
        "mengidentifikasi bagian penting dari teks dan ditulis kembali dalam teks yang ringkas. Pendekatan ini akan bergantung pada kalimat-kalimat yang tercantum pada teks tersebut\n",
        "\n",
        "*   Abstractive\n",
        "\n",
        "mengidentifikasi dan mengintepretasikan bagian penting dari teks dengan membuat kalimat yang baru. Kalimat baru dari pendekatan ini dapat dimungkinkan tidak menggunakan kalimat yang tercantum tetapi yang lain dengan makna yang sama\n",
        "\n"
      ]
    },
    {
      "cell_type": "code",
      "metadata": {
        "id": "28Al08PlZ6P4"
      },
      "source": [
        ""
      ],
      "execution_count": null,
      "outputs": []
    }
  ]
}